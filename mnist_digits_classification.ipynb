{
  "nbformat": 4,
  "nbformat_minor": 0,
  "metadata": {
    "colab": {
      "name": "mnist_digits_classification",
      "provenance": []
    },
    "kernelspec": {
      "name": "python3",
      "display_name": "Python 3"
    },
    "accelerator": "GPU"
  },
  "cells": [
    {
      "cell_type": "markdown",
      "metadata": {
        "id": "6gVT5okaF6PZ"
      },
      "source": [
        "# MNIST Digit classification using CNN"
      ]
    },
    {
      "cell_type": "markdown",
      "metadata": {
        "id": "jUsoM4qb_E0r"
      },
      "source": [
        "## Import necessary packages"
      ]
    },
    {
      "cell_type": "code",
      "metadata": {
        "id": "1_H46YNy_KTJ"
      },
      "source": [
        "import numpy as np\n",
        "import tensorflow as tf\n",
        "import matplotlib.pyplot as plt\n",
        "from tensorflow.keras.datasets import mnist\n",
        "from tensorflow.keras.models import Sequential\n",
        "from tensorflow.keras.layers import Conv2D, Dense, Flatten, Dropout\n",
        "from tensorflow.keras.utils import to_categorical"
      ],
      "execution_count": 1,
      "outputs": []
    },
    {
      "cell_type": "markdown",
      "metadata": {
        "id": "nvsMMnqx_XJR"
      },
      "source": [
        "## Load the mnist data set"
      ]
    },
    {
      "cell_type": "code",
      "metadata": {
        "colab": {
          "base_uri": "https://localhost:8080/"
        },
        "id": "Hv6UHsCh_hv7",
        "outputId": "1c290ebd-6780-48ed-caba-f6e65e9583b1"
      },
      "source": [
        "(x_train, y_train), (x_test, y_test) = mnist.load_data()"
      ],
      "execution_count": 2,
      "outputs": [
        {
          "output_type": "stream",
          "text": [
            "Downloading data from https://storage.googleapis.com/tensorflow/tf-keras-datasets/mnist.npz\n",
            "11493376/11490434 [==============================] - 0s 0us/step\n"
          ],
          "name": "stdout"
        }
      ]
    },
    {
      "cell_type": "markdown",
      "metadata": {
        "id": "Wn6Yfh7D_p4i"
      },
      "source": [
        "### Check the shape of the training and test data sets"
      ]
    },
    {
      "cell_type": "code",
      "metadata": {
        "colab": {
          "base_uri": "https://localhost:8080/"
        },
        "id": "V-yL7UPSAHvp",
        "outputId": "23f30936-1868-421d-c991-1aa96d7d0d34"
      },
      "source": [
        "print(f'Shape of x_train: {x_train.shape}\\nShape of y_train: {y_train.shape}')\n",
        "print(f'Shape of x_test: {x_test.shape}\\nShape of y_test: {y_test.shape}')"
      ],
      "execution_count": 3,
      "outputs": [
        {
          "output_type": "stream",
          "text": [
            "Shape of x_train: (60000, 28, 28)\n",
            "Shape of y_train: (60000,)\n",
            "Shape of x_test: (10000, 28, 28)\n",
            "Shape of y_test: (10000,)\n"
          ],
          "name": "stdout"
        }
      ]
    },
    {
      "cell_type": "markdown",
      "metadata": {
        "id": "uYSbLcm8AkPa"
      },
      "source": [
        "### Display few images"
      ]
    },
    {
      "cell_type": "code",
      "metadata": {
        "colab": {
          "base_uri": "https://localhost:8080/",
          "height": 385
        },
        "id": "vDiZuBfKA3dT",
        "outputId": "5928d362-64b5-4a61-8b40-dd591a906a22"
      },
      "source": [
        "fig, axes = plt.subplots(2, 5, figsize = (12, 6))\n",
        "axes = axes.flatten()\n",
        "\n",
        "for img, ax in zip(x_train[:10], axes):\n",
        "    ax.imshow(img, cmap = plt.cm.binary)\n",
        "    ax.axis('off')\n",
        "    \n",
        "plt.tight_layout()\n",
        "plt.show()"
      ],
      "execution_count": 4,
      "outputs": [
        {
          "output_type": "display_data",
          "data": {
            "image/png": "[encoded data removed]",
            "text/plain": [
              "<Figure size 864x432 with 10 Axes>"
            ]
          },
          "metadata": {
            "tags": [],
            "needs_background": "light"
          }
        }
      ]
    },
    {
      "cell_type": "markdown",
      "metadata": {
        "id": "qCf4khLBBuuT"
      },
      "source": [
        "### Reshape training and test data by adding batch dimension"
      ]
    },
    {
      "cell_type": "markdown",
      "metadata": {
        "id": "DSzv5p_R_Dkb"
      },
      "source": [
        ""
      ]
    },
    {
      "cell_type": "code",
      "metadata": {
        "colab": {
          "base_uri": "https://localhost:8080/"
        },
        "id": "KC4OXm1xB9Bh",
        "outputId": "fc166f19-fd03-47fe-f1cd-240f19b158b7"
      },
      "source": [
        "x_train = np.expand_dims(x_train, axis = 3)\n",
        "x_test = x_test[:, :, :, np.newaxis]\n",
        "print(f'Shape of x_train: {x_train.shape}')\n",
        "print(f'Shape of x_test: {x_test.shape}')"
      ],
      "execution_count": 5,
      "outputs": [
        {
          "output_type": "stream",
          "text": [
            "Shape of x_train: (60000, 28, 28, 1)\n",
            "Shape of x_test: (10000, 28, 28, 1)\n"
          ],
          "name": "stdout"
        }
      ]
    },
    {
      "cell_type": "markdown",
      "metadata": {
        "id": "kELSq0BqCSeq"
      },
      "source": [
        "### Model Architecture"
      ]
    },
    {
      "cell_type": "code",
      "metadata": {
        "colab": {
          "base_uri": "https://localhost:8080/"
        },
        "id": "uhlrdQAACLYt",
        "outputId": "ff9b937e-498f-4a81-9ddc-afc4e12e2a60"
      },
      "source": [
        "model = Sequential()\n",
        "model.add(Conv2D(32, (3, 3), padding = 'same', activation = 'relu', input_shape = (28, 28, 1)))\n",
        "model.add(tf.keras.layers.MaxPooling2D(pool_size = (2, 2)))\n",
        "\n",
        "model.add(Conv2D(64, (3, 3), padding = 'same', activation = 'relu'))\n",
        "model.add(tf.keras.layers.MaxPooling2D(pool_size = (2, 2)))\n",
        "model.add(Dropout(0.3))\n",
        "\n",
        "model.add(Conv2D(64, (3, 3), padding = 'same', activation = 'relu'))\n",
        "model.add(tf.keras.layers.MaxPooling2D(pool_size = (2, 2)))\n",
        "model.add(Dropout(0.3))\n",
        "\n",
        "model.add(Conv2D(128, (3, 3), padding = 'same', activation = 'relu'))\n",
        "model.add(tf.keras.layers.MaxPooling2D(pool_size = (2, 2)))\n",
        "model.add(Flatten())\n",
        "\n",
        "model.add(Dense(128, activation = 'relu'))\n",
        "model.add(Dropout(0.3))\n",
        "model.add(Dense(10, activation = 'softmax'))\n",
        "\n",
        "# print the model summary\n",
        "model.summary()"
      ],
      "execution_count": 6,
      "outputs": [
        {
          "output_type": "stream",
          "text": [
            "Model: \"sequential\"\n",
            "_________________________________________________________________\n",
            "Layer (type)                 Output Shape              Param #   \n",
            "=================================================================\n",
            "conv2d (Conv2D)              (None, 28, 28, 32)        320       \n",
            "_________________________________________________________________\n",
            "max_pooling2d (MaxPooling2D) (None, 14, 14, 32)        0         \n",
            "_________________________________________________________________\n",
            "conv2d_1 (Conv2D)            (None, 14, 14, 64)        18496     \n",
            "_________________________________________________________________\n",
            "max_pooling2d_1 (MaxPooling2 (None, 7, 7, 64)          0         \n",
            "_________________________________________________________________\n",
            "dropout (Dropout)            (None, 7, 7, 64)          0         \n",
            "_________________________________________________________________\n",
            "conv2d_2 (Conv2D)            (None, 7, 7, 64)          36928     \n",
            "_________________________________________________________________\n",
            "max_pooling2d_2 (MaxPooling2 (None, 3, 3, 64)          0         \n",
            "_________________________________________________________________\n",
            "dropout_1 (Dropout)          (None, 3, 3, 64)          0         \n",
            "_________________________________________________________________\n",
            "conv2d_3 (Conv2D)            (None, 3, 3, 128)         73856     \n",
            "_________________________________________________________________\n",
            "max_pooling2d_3 (MaxPooling2 (None, 1, 1, 128)         0         \n",
            "_________________________________________________________________\n",
            "flatten (Flatten)            (None, 128)               0         \n",
            "_________________________________________________________________\n",
            "dense (Dense)                (None, 128)               16512     \n",
            "_________________________________________________________________\n",
            "dropout_2 (Dropout)          (None, 128)               0         \n",
            "_________________________________________________________________\n",
            "dense_1 (Dense)              (None, 10)                1290      \n",
            "=================================================================\n",
            "Total params: 147,402\n",
            "Trainable params: 147,402\n",
            "Non-trainable params: 0\n",
            "_________________________________________________________________\n"
          ],
          "name": "stdout"
        }
      ]
    },
    {
      "cell_type": "markdown",
      "metadata": {
        "id": "EOZpuybP_Rce"
      },
      "source": [
        "### Convert the train and test labels into one hot encoding"
      ]
    },
    {
      "cell_type": "code",
      "metadata": {
        "id": "w-7Rq09Z-_L6"
      },
      "source": [
        "y_train = to_categorical(y_train, 10)\n",
        "y_test = to_categorical(y_test, 10)"
      ],
      "execution_count": 7,
      "outputs": []
    },
    {
      "cell_type": "markdown",
      "metadata": {
        "id": "Z94nWbzu_yCt"
      },
      "source": [
        "### Compile and fit the model"
      ]
    },
    {
      "cell_type": "code",
      "metadata": {
        "colab": {
          "base_uri": "https://localhost:8080/"
        },
        "id": "XbSMWaPs_xK2",
        "outputId": "83544ea6-401e-43cc-bbc1-5056c86f7919"
      },
      "source": [
        "model.compile(optimizer = 'adam', loss = 'categorical_crossentropy', metrics = ['accuracy'])\n",
        "model.fit(x_train, y_train, batch_size = 32, epochs = 8, validation_data = (x_test, y_test))"
      ],
      "execution_count": 8,
      "outputs": [
        {
          "output_type": "stream",
          "text": [
            "Epoch 1/8\n",
            "1875/1875 [==============================] - 7s 4ms/step - loss: 0.4372 - accuracy: 0.8754 - val_loss: 0.0527 - val_accuracy: 0.9834\n",
            "Epoch 2/8\n",
            "1875/1875 [==============================] - 6s 3ms/step - loss: 0.1313 - accuracy: 0.9624 - val_loss: 0.0585 - val_accuracy: 0.9832\n",
            "Epoch 3/8\n",
            "1875/1875 [==============================] - 6s 3ms/step - loss: 0.1083 - accuracy: 0.9705 - val_loss: 0.0402 - val_accuracy: 0.9875\n",
            "Epoch 4/8\n",
            "1875/1875 [==============================] - 6s 3ms/step - loss: 0.0920 - accuracy: 0.9749 - val_loss: 0.0432 - val_accuracy: 0.9878\n",
            "Epoch 5/8\n",
            "1875/1875 [==============================] - 6s 3ms/step - loss: 0.0858 - accuracy: 0.9761 - val_loss: 0.0379 - val_accuracy: 0.9877\n",
            "Epoch 6/8\n",
            "1875/1875 [==============================] - 6s 3ms/step - loss: 0.0809 - accuracy: 0.9769 - val_loss: 0.0326 - val_accuracy: 0.9907\n",
            "Epoch 7/8\n",
            "1875/1875 [==============================] - 6s 3ms/step - loss: 0.0724 - accuracy: 0.9797 - val_loss: 0.0410 - val_accuracy: 0.9887\n",
            "Epoch 8/8\n",
            "1875/1875 [==============================] - 6s 3ms/step - loss: 0.0714 - accuracy: 0.9803 - val_loss: 0.0415 - val_accuracy: 0.9877\n"
          ],
          "name": "stdout"
        },
        {
          "output_type": "execute_result",
          "data": {
            "text/plain": [
              "<tensorflow.python.keras.callbacks.History at 0x7fee2e0a07b8>"
            ]
          },
          "metadata": {
            "tags": []
          },
          "execution_count": 8
        }
      ]
    },
    {
      "cell_type": "markdown",
      "metadata": {
        "id": "fyxjYewZDrHC"
      },
      "source": [
        "### Plot the loss and accuracy of training and validation data"
      ]
    },
    {
      "cell_type": "code",
      "metadata": {
        "colab": {
          "base_uri": "https://localhost:8080/",
          "height": 281
        },
        "id": "BCf_8CdZALeF",
        "outputId": "265b46cf-1781-4d40-c61d-f9ca14de4428"
      },
      "source": [
        "plt.plot(model.history.history['loss'])\n",
        "plt.plot(model.history.history['val_loss'])\n",
        "plt.title('Training loss vs Validation loss')\n",
        "plt.legend(['train', 'val']);"
      ],
      "execution_count": 9,
      "outputs": [
        {
          "output_type": "display_data",
          "data": {
            "image/png": "[encoded data removed]",
            "text/plain": [
              "<Figure size 432x288 with 1 Axes>"
            ]
          },
          "metadata": {
            "tags": [],
            "needs_background": "light"
          }
        }
      ]
    },
    {
      "cell_type": "code",
      "metadata": {
        "colab": {
          "base_uri": "https://localhost:8080/",
          "height": 281
        },
        "id": "4fnnJvN-EJfI",
        "outputId": "ed70e1a5-c70b-4843-e804-3192edc902d9"
      },
      "source": [
        "plt.plot(model.history.history['accuracy'])\n",
        "plt.plot(model.history.history['val_accuracy'])\n",
        "plt.title('Training accuracy vs Validation accuracy')\n",
        "plt.legend(['train', 'val']);"
      ],
      "execution_count": 10,
      "outputs": [
        {
          "output_type": "display_data",
          "data": {
            "image/png": "[encoded data removed]",
            "text/plain": [
              "<Figure size 432x288 with 1 Axes>"
            ]
          },
          "metadata": {
            "tags": [],
            "needs_background": "light"
          }
        }
      ]
    },
    {
      "cell_type": "markdown",
      "metadata": {
        "id": "2tVIac2wE6-5"
      },
      "source": [
        "### Model overfit the data in the last two epochs. Use image augmentation to reduce overfitting."
      ]
    },
    {
      "cell_type": "code",
      "metadata": {
        "id": "2tMIru7HGrfh"
      },
      "source": [
        "# Apply transformations to the images\n",
        "from tensorflow.keras.preprocessing.image import ImageDataGenerator\n",
        "\n",
        "train_aug = ImageDataGenerator(rescale = 1./ 255, width_shift_range = 0.1, height_shift_range = 0.1,\n",
        "                               rotation_range = 15, zoom_range = 0.1, shear_range = 0.1)\n",
        "\n",
        "val_aug = ImageDataGenerator(rescale = 1.0 / 255)"
      ],
      "execution_count": 11,
      "outputs": []
    },
    {
      "cell_type": "code",
      "metadata": {
        "colab": {
          "base_uri": "https://localhost:8080/"
        },
        "id": "miiWm8UUHd_x",
        "outputId": "41a7f09a-72b2-46e3-f6d9-1a92e83f8d3f"
      },
      "source": [
        "# Fit the Model on Augmented Images\n",
        "model.fit(train_aug.flow(x_train, y_train, batch_size = 32), steps_per_epoch = len(x_train) // 32, epochs = 10,\n",
        "                        validation_data = val_aug.flow(x_test, y_test), validation_steps = len(x_test) // 32)"
      ],
      "execution_count": 12,
      "outputs": [
        {
          "output_type": "stream",
          "text": [
            "WARNING:tensorflow:From <ipython-input-12-9f055306119e>:3: Model.fit_generator (from tensorflow.python.keras.engine.training) is deprecated and will be removed in a future version.\n",
            "Instructions for updating:\n",
            "Please use Model.fit, which supports generators.\n",
            "Epoch 1/10\n",
            "1875/1875 [==============================] - 22s 12ms/step - loss: 0.5797 - accuracy: 0.8032 - val_loss: 0.0604 - val_accuracy: 0.9816\n",
            "Epoch 2/10\n",
            "1875/1875 [==============================] - 21s 11ms/step - loss: 0.1624 - accuracy: 0.9516 - val_loss: 0.0334 - val_accuracy: 0.9892\n",
            "Epoch 3/10\n",
            "1875/1875 [==============================] - 21s 11ms/step - loss: 0.1222 - accuracy: 0.9641 - val_loss: 0.0333 - val_accuracy: 0.9892\n",
            "Epoch 4/10\n",
            "1875/1875 [==============================] - 21s 11ms/step - loss: 0.1079 - accuracy: 0.9683 - val_loss: 0.0307 - val_accuracy: 0.9901\n",
            "Epoch 5/10\n",
            "1875/1875 [==============================] - 22s 11ms/step - loss: 0.0942 - accuracy: 0.9721 - val_loss: 0.0242 - val_accuracy: 0.9921\n",
            "Epoch 6/10\n",
            "1875/1875 [==============================] - 21s 11ms/step - loss: 0.0842 - accuracy: 0.9744 - val_loss: 0.0272 - val_accuracy: 0.9918\n",
            "Epoch 7/10\n",
            "1875/1875 [==============================] - 21s 11ms/step - loss: 0.0803 - accuracy: 0.9759 - val_loss: 0.0260 - val_accuracy: 0.9917\n",
            "Epoch 8/10\n",
            "1875/1875 [==============================] - 21s 11ms/step - loss: 0.0749 - accuracy: 0.9784 - val_loss: 0.0218 - val_accuracy: 0.9925\n",
            "Epoch 9/10\n",
            "1875/1875 [==============================] - 22s 11ms/step - loss: 0.0753 - accuracy: 0.9773 - val_loss: 0.0274 - val_accuracy: 0.9912\n",
            "Epoch 10/10\n",
            "1875/1875 [==============================] - 21s 11ms/step - loss: 0.0717 - accuracy: 0.9786 - val_loss: 0.0218 - val_accuracy: 0.9928\n"
          ],
          "name": "stdout"
        },
        {
          "output_type": "execute_result",
          "data": {
            "text/plain": [
              "<tensorflow.python.keras.callbacks.History at 0x7fee26eb36d8>"
            ]
          },
          "metadata": {
            "tags": []
          },
          "execution_count": 12
        }
      ]
    },
    {
      "cell_type": "markdown",
      "metadata": {
        "id": "LPJnZL0wI38p"
      },
      "source": [
        "### Plot loss and accuracy on augmented data"
      ]
    },
    {
      "cell_type": "code",
      "metadata": {
        "colab": {
          "base_uri": "https://localhost:8080/",
          "height": 281
        },
        "id": "eOgv8GqxH9G2",
        "outputId": "7a925783-7bf3-468c-a990-4e4c46427a6f"
      },
      "source": [
        "plt.plot(model.history.history['loss'])\n",
        "plt.plot(model.history.history['val_loss'])\n",
        "plt.title('Training loss vs Validation loss')\n",
        "plt.legend(['train', 'val']);"
      ],
      "execution_count": 13,
      "outputs": [
        {
          "output_type": "display_data",
          "data": {
            "image/png": "[encoded data removed]",
            "text/plain": [
              "<Figure size 432x288 with 1 Axes>"
            ]
          },
          "metadata": {
            "tags": [],
            "needs_background": "light"
          }
        }
      ]
    },
    {
      "cell_type": "code",
      "metadata": {
        "colab": {
          "base_uri": "https://localhost:8080/",
          "height": 281
        },
        "id": "WQpnLU5oIyrL",
        "outputId": "636a5719-b2b9-4de7-9838-5963d9effb08"
      },
      "source": [
        "plt.plot(model.history.history['accuracy'])\n",
        "plt.plot(model.history.history['val_accuracy'])\n",
        "plt.title('Training accuracy vs Validation accuracy')\n",
        "plt.legend(['train', 'val']);"
      ],
      "execution_count": 14,
      "outputs": [
        {
          "output_type": "display_data",
          "data": {
            "image/png": "[encoded data removed]",
            "text/plain": [
              "<Figure size 432x288 with 1 Axes>"
            ]
          },
          "metadata": {
            "tags": [],
            "needs_background": "light"
          }
        }
      ]
    },
    {
      "cell_type": "code",
      "metadata": {
        "id": "e9auSaOzJJJF"
      },
      "source": [
        ""
      ],
      "execution_count": null,
      "outputs": []
    }
  ]
}