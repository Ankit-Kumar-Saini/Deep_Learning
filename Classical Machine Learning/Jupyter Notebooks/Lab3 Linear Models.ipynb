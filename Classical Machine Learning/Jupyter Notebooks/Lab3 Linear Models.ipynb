{
 "cells": [
  {
   "cell_type": "markdown",
   "metadata": {},
   "source": [
    "# Linear Models\n"
   ]
  },
  {
   "cell_type": "markdown",
   "metadata": {},
   "source": [
    "## Assignment 2 (Deadline : 22/10/2020 11:59PM)\n",
    "\n",
    "Total Points : 50"
   ]
  },
  {
   "cell_type": "markdown",
   "metadata": {},
   "source": [
    "### Import necessary modules"
   ]
  },
  {
   "cell_type": "code",
   "execution_count": 1,
   "metadata": {},
   "outputs": [],
   "source": [
    "import numpy as np \n",
    "import pandas as pd\n",
    "import matplotlib.pyplot as plt\n",
    "from sklearn.linear_model import LinearRegression, Ridge, Lasso, ElasticNet\n",
    "from sklearn.metrics import mean_squared_error, mean_absolute_error\n",
    "from sklearn.model_selection import train_test_split"
   ]
  },
  {
   "cell_type": "markdown",
   "metadata": {},
   "source": [
    "### 1. Read the data into numpy array"
   ]
  },
  {
   "cell_type": "code",
   "execution_count": 2,
   "metadata": {},
   "outputs": [
    {
     "data": {
      "text/html": [
       "<div>\n",
       "<style scoped>\n",
       "    .dataframe tbody tr th:only-of-type {\n",
       "        vertical-align: middle;\n",
       "    }\n",
       "\n",
       "    .dataframe tbody tr th {\n",
       "        vertical-align: top;\n",
       "    }\n",
       "\n",
       "    .dataframe thead th {\n",
       "        text-align: right;\n",
       "    }\n",
       "</style>\n",
       "<table border=\"1\" class=\"dataframe\">\n",
       "  <thead>\n",
       "    <tr style=\"text-align: right;\">\n",
       "      <th></th>\n",
       "      <th>0</th>\n",
       "      <th>1</th>\n",
       "      <th>2</th>\n",
       "    </tr>\n",
       "  </thead>\n",
       "  <tbody>\n",
       "    <tr>\n",
       "      <th>0</th>\n",
       "      <td>51.87</td>\n",
       "      <td>79.72</td>\n",
       "      <td>1249.99</td>\n",
       "    </tr>\n",
       "    <tr>\n",
       "      <th>1</th>\n",
       "      <td>-30.66</td>\n",
       "      <td>-15.64</td>\n",
       "      <td>-516.61</td>\n",
       "    </tr>\n",
       "    <tr>\n",
       "      <th>2</th>\n",
       "      <td>-57.57</td>\n",
       "      <td>94.22</td>\n",
       "      <td>312.09</td>\n",
       "    </tr>\n",
       "    <tr>\n",
       "      <th>3</th>\n",
       "      <td>-122.10</td>\n",
       "      <td>5.15</td>\n",
       "      <td>-1544.90</td>\n",
       "    </tr>\n",
       "    <tr>\n",
       "      <th>4</th>\n",
       "      <td>-53.45</td>\n",
       "      <td>41.87</td>\n",
       "      <td>-201.57</td>\n",
       "    </tr>\n",
       "  </tbody>\n",
       "</table>\n",
       "</div>"
      ],
      "text/plain": [
       "        0      1        2\n",
       "0   51.87  79.72  1249.99\n",
       "1  -30.66 -15.64  -516.61\n",
       "2  -57.57  94.22   312.09\n",
       "3 -122.10   5.15 -1544.90\n",
       "4  -53.45  41.87  -201.57"
      ]
     },
     "execution_count": 2,
     "metadata": {},
     "output_type": "execute_result"
    }
   ],
   "source": [
    "# Read data from file: 'data.csv'. \n",
    "# Note that the first row has the number of inputs and number of outputs specified.\n",
    "# For your reference: you can use \"np.loadtxt\".\n",
    "df = pd.read_csv('data.csv', skiprows = 1, header = None)\n",
    "df.head()"
   ]
  },
  {
   "cell_type": "code",
   "execution_count": 3,
   "metadata": {},
   "outputs": [
    {
     "data": {
      "text/html": [
       "<div>\n",
       "<style scoped>\n",
       "    .dataframe tbody tr th:only-of-type {\n",
       "        vertical-align: middle;\n",
       "    }\n",
       "\n",
       "    .dataframe tbody tr th {\n",
       "        vertical-align: top;\n",
       "    }\n",
       "\n",
       "    .dataframe thead th {\n",
       "        text-align: right;\n",
       "    }\n",
       "</style>\n",
       "<table border=\"1\" class=\"dataframe\">\n",
       "  <thead>\n",
       "    <tr style=\"text-align: right;\">\n",
       "      <th></th>\n",
       "      <th>0</th>\n",
       "      <th>1</th>\n",
       "      <th>2</th>\n",
       "    </tr>\n",
       "  </thead>\n",
       "  <tbody>\n",
       "    <tr>\n",
       "      <th>0</th>\n",
       "      <td>1.000000</td>\n",
       "      <td>0.499028</td>\n",
       "      <td>0.890029</td>\n",
       "    </tr>\n",
       "    <tr>\n",
       "      <th>1</th>\n",
       "      <td>0.499028</td>\n",
       "      <td>1.000000</td>\n",
       "      <td>0.786392</td>\n",
       "    </tr>\n",
       "    <tr>\n",
       "      <th>2</th>\n",
       "      <td>0.890029</td>\n",
       "      <td>0.786392</td>\n",
       "      <td>1.000000</td>\n",
       "    </tr>\n",
       "  </tbody>\n",
       "</table>\n",
       "</div>"
      ],
      "text/plain": [
       "          0         1         2\n",
       "0  1.000000  0.499028  0.890029\n",
       "1  0.499028  1.000000  0.786392\n",
       "2  0.890029  0.786392  1.000000"
      ]
     },
     "execution_count": 3,
     "metadata": {},
     "output_type": "execute_result"
    }
   ],
   "source": [
    "# find correlation between variables\n",
    "df.corr()"
   ]
  },
  {
   "cell_type": "code",
   "execution_count": 4,
   "metadata": {},
   "outputs": [
    {
     "data": {
      "text/html": [
       "<div>\n",
       "<style scoped>\n",
       "    .dataframe tbody tr th:only-of-type {\n",
       "        vertical-align: middle;\n",
       "    }\n",
       "\n",
       "    .dataframe tbody tr th {\n",
       "        vertical-align: top;\n",
       "    }\n",
       "\n",
       "    .dataframe thead th {\n",
       "        text-align: right;\n",
       "    }\n",
       "</style>\n",
       "<table border=\"1\" class=\"dataframe\">\n",
       "  <thead>\n",
       "    <tr style=\"text-align: right;\">\n",
       "      <th></th>\n",
       "      <th>x_1</th>\n",
       "      <th>x_2</th>\n",
       "      <th>y</th>\n",
       "    </tr>\n",
       "  </thead>\n",
       "  <tbody>\n",
       "    <tr>\n",
       "      <th>0</th>\n",
       "      <td>51.87</td>\n",
       "      <td>79.72</td>\n",
       "      <td>1249.99</td>\n",
       "    </tr>\n",
       "    <tr>\n",
       "      <th>1</th>\n",
       "      <td>-30.66</td>\n",
       "      <td>-15.64</td>\n",
       "      <td>-516.61</td>\n",
       "    </tr>\n",
       "    <tr>\n",
       "      <th>2</th>\n",
       "      <td>-57.57</td>\n",
       "      <td>94.22</td>\n",
       "      <td>312.09</td>\n",
       "    </tr>\n",
       "    <tr>\n",
       "      <th>3</th>\n",
       "      <td>-122.10</td>\n",
       "      <td>5.15</td>\n",
       "      <td>-1544.90</td>\n",
       "    </tr>\n",
       "    <tr>\n",
       "      <th>4</th>\n",
       "      <td>-53.45</td>\n",
       "      <td>41.87</td>\n",
       "      <td>-201.57</td>\n",
       "    </tr>\n",
       "  </tbody>\n",
       "</table>\n",
       "</div>"
      ],
      "text/plain": [
       "      x_1    x_2        y\n",
       "0   51.87  79.72  1249.99\n",
       "1  -30.66 -15.64  -516.61\n",
       "2  -57.57  94.22   312.09\n",
       "3 -122.10   5.15 -1544.90\n",
       "4  -53.45  41.87  -201.57"
      ]
     },
     "execution_count": 4,
     "metadata": {},
     "output_type": "execute_result"
    }
   ],
   "source": [
    "# set the column names of the dataframe\n",
    "df.columns = ['x_1', 'x_2', 'y']\n",
    "df.head()"
   ]
  },
  {
   "cell_type": "code",
   "execution_count": 5,
   "metadata": {},
   "outputs": [
    {
     "name": "stdout",
     "output_type": "stream",
     "text": [
      "<class 'pandas.core.frame.DataFrame'>\n",
      "RangeIndex: 3000 entries, 0 to 2999\n",
      "Data columns (total 3 columns):\n",
      " #   Column  Non-Null Count  Dtype  \n",
      "---  ------  --------------  -----  \n",
      " 0   x_1     3000 non-null   float64\n",
      " 1   x_2     3000 non-null   float64\n",
      " 2   y       3000 non-null   float64\n",
      "dtypes: float64(3)\n",
      "memory usage: 70.4 KB\n"
     ]
    }
   ],
   "source": [
    "# basic info about the dataset\n",
    "df.info()"
   ]
  },
  {
   "cell_type": "code",
   "execution_count": 6,
   "metadata": {},
   "outputs": [
    {
     "data": {
      "text/html": [
       "<div>\n",
       "<style scoped>\n",
       "    .dataframe tbody tr th:only-of-type {\n",
       "        vertical-align: middle;\n",
       "    }\n",
       "\n",
       "    .dataframe tbody tr th {\n",
       "        vertical-align: top;\n",
       "    }\n",
       "\n",
       "    .dataframe thead th {\n",
       "        text-align: right;\n",
       "    }\n",
       "</style>\n",
       "<table border=\"1\" class=\"dataframe\">\n",
       "  <thead>\n",
       "    <tr style=\"text-align: right;\">\n",
       "      <th></th>\n",
       "      <th>x_1</th>\n",
       "      <th>x_2</th>\n",
       "      <th>y</th>\n",
       "    </tr>\n",
       "  </thead>\n",
       "  <tbody>\n",
       "    <tr>\n",
       "      <th>count</th>\n",
       "      <td>3000.000000</td>\n",
       "      <td>3000.00000</td>\n",
       "      <td>3000.000000</td>\n",
       "    </tr>\n",
       "    <tr>\n",
       "      <th>mean</th>\n",
       "      <td>-18.483293</td>\n",
       "      <td>31.24422</td>\n",
       "      <td>-11.450140</td>\n",
       "    </tr>\n",
       "    <tr>\n",
       "      <th>std</th>\n",
       "      <td>34.398479</td>\n",
       "      <td>42.99015</td>\n",
       "      <td>662.873355</td>\n",
       "    </tr>\n",
       "    <tr>\n",
       "      <th>min</th>\n",
       "      <td>-140.710000</td>\n",
       "      <td>-132.18000</td>\n",
       "      <td>-2325.790000</td>\n",
       "    </tr>\n",
       "    <tr>\n",
       "      <th>25%</th>\n",
       "      <td>-40.392500</td>\n",
       "      <td>3.38250</td>\n",
       "      <td>-446.140000</td>\n",
       "    </tr>\n",
       "    <tr>\n",
       "      <th>50%</th>\n",
       "      <td>-18.485000</td>\n",
       "      <td>31.34500</td>\n",
       "      <td>-17.680000</td>\n",
       "    </tr>\n",
       "    <tr>\n",
       "      <th>75%</th>\n",
       "      <td>4.125000</td>\n",
       "      <td>60.59000</td>\n",
       "      <td>429.782500</td>\n",
       "    </tr>\n",
       "    <tr>\n",
       "      <th>max</th>\n",
       "      <td>93.930000</td>\n",
       "      <td>189.99000</td>\n",
       "      <td>2198.490000</td>\n",
       "    </tr>\n",
       "  </tbody>\n",
       "</table>\n",
       "</div>"
      ],
      "text/plain": [
       "               x_1         x_2            y\n",
       "count  3000.000000  3000.00000  3000.000000\n",
       "mean    -18.483293    31.24422   -11.450140\n",
       "std      34.398479    42.99015   662.873355\n",
       "min    -140.710000  -132.18000 -2325.790000\n",
       "25%     -40.392500     3.38250  -446.140000\n",
       "50%     -18.485000    31.34500   -17.680000\n",
       "75%       4.125000    60.59000   429.782500\n",
       "max      93.930000   189.99000  2198.490000"
      ]
     },
     "execution_count": 6,
     "metadata": {},
     "output_type": "execute_result"
    }
   ],
   "source": [
    "# description of the dataset\n",
    "df.describe()"
   ]
  },
  {
   "cell_type": "markdown",
   "metadata": {},
   "source": [
    "### 2. Plot and Explore the data to get a better understanding"
   ]
  },
  {
   "cell_type": "code",
   "execution_count": 7,
   "metadata": {},
   "outputs": [
    {
     "data": {
      "image/png": "[encoded data removed]",
      "text/plain": [
       "<Figure size 1008x432 with 2 Axes>"
      ]
     },
     "metadata": {
      "needs_background": "light"
     },
     "output_type": "display_data"
    }
   ],
   "source": [
    "# let's plot the distribution of x_1 and x_2\n",
    "fig, ax = plt.subplots(1, 2,figsize = (14, 6))\n",
    "\n",
    "ax[0].hist(df.x_1, bins = 100);\n",
    "ax[0].set(title = 'Distribution of variable x_1', xlabel = 'x_1')\n",
    "\n",
    "ax[1].hist(df.x_2, bins = 100);\n",
    "ax[1].set(title = 'Distribution of variable x_2', xlabel = 'x_2');"
   ]
  },
  {
   "cell_type": "markdown",
   "metadata": {},
   "source": [
    "#### As can be seen from the above plots both the variables x_1 and x_2 are normally distributed"
   ]
  },
  {
   "cell_type": "code",
   "execution_count": 8,
   "metadata": {},
   "outputs": [
    {
     "data": {
      "image/png": "[encoded data removed]",
      "text/plain": [
       "<Figure size 864x576 with 1 Axes>"
      ]
     },
     "metadata": {
      "needs_background": "light"
     },
     "output_type": "display_data"
    }
   ],
   "source": [
    "# let's plot the distribution of y\n",
    "fig, ax = plt.subplots(figsize = (12, 8))\n",
    "\n",
    "ax.hist(df.y, bins = 100);\n",
    "ax.set(title = 'Distribution of variable y', xlabel = 'y');"
   ]
  },
  {
   "cell_type": "markdown",
   "metadata": {},
   "source": [
    "#### As can be seen from the above plot target variable is also normally distributed"
   ]
  },
  {
   "cell_type": "markdown",
   "metadata": {},
   "source": [
    "### 3. Prepare the data for modelling. (8 points)"
   ]
  },
  {
   "cell_type": "code",
   "execution_count": 9,
   "metadata": {},
   "outputs": [],
   "source": [
    "# Separate the data: input and output.\n",
    "X = df[['x_1', 'x_2']]\n",
    "Y = df.y.values"
   ]
  },
  {
   "cell_type": "code",
   "execution_count": 10,
   "metadata": {},
   "outputs": [
    {
     "name": "stdout",
     "output_type": "stream",
     "text": [
      "train_x shape: (1800, 2)\n",
      "train_y shape = (1800,)\n",
      "val_x shape: (600, 2)\n",
      "val_y shape = (600,)\n",
      "test_x shape: (600, 2)\n",
      "test_y shape = (600,)\n"
     ]
    }
   ],
   "source": [
    "# Perform a train-val-test split of 60-20-20.\n",
    "# Use \"random_state=42\".\n",
    "# For your reference: you can use \"train_test_split\" from sklearn twice to perform this. \n",
    "# From your understanding of the dataset, is stratified sampling necessary in this case? Why / Why not?\n",
    "x, test_x, y, test_y = train_test_split(X, Y, test_size = 0.2, random_state = 42)\n",
    "train_x, val_x, train_y, val_y = train_test_split(x, y, test_size = 0.25, random_state = 42)\n",
    "\n",
    "print(f\"train_x shape: {train_x.shape}\\ntrain_y shape = {train_y.shape}\")\n",
    "print(f\"val_x shape: {val_x.shape}\\nval_y shape = {val_y.shape}\")\n",
    "print(f\"test_x shape: {test_x.shape}\\ntest_y shape = {test_y.shape}\")"
   ]
  },
  {
   "cell_type": "code",
   "execution_count": 11,
   "metadata": {},
   "outputs": [
    {
     "data": {
      "image/png": "[encoded data removed]",
      "text/plain": [
       "<Figure size 1008x432 with 3 Axes>"
      ]
     },
     "metadata": {
      "needs_background": "light"
     },
     "output_type": "display_data"
    }
   ],
   "source": [
    "# Let's check the distribution of target variable in the train, val and test set\n",
    "# let's plot the distribution of y\n",
    "fig, ax = plt.subplots(1, 3, figsize = (14, 6))\n",
    "\n",
    "ax[0].hist(train_y, bins = 50)\n",
    "ax[0].set(title = 'Distribution of target variable y in train set', xlabel = 'train_y')\n",
    "\n",
    "ax[1].hist(val_y, bins = 50)\n",
    "ax[1].set(title = 'Distribution of target variable y in val set', xlabel = 'val_y')\n",
    "\n",
    "ax[2].hist(test_y, bins = 50)\n",
    "ax[2].set(title = 'Distribution of target variable y in test set', xlabel = 'test_y');"
   ]
  },
  {
   "cell_type": "markdown",
   "metadata": {},
   "source": [
    "**Observations:** \n",
    "- Distribution of target variable in train, validation and test set is similar. "
   ]
  },
  {
   "cell_type": "markdown",
   "metadata": {},
   "source": [
    "### 4. Modelling"
   ]
  },
  {
   "cell_type": "markdown",
   "metadata": {},
   "source": [
    "#### 4.1. Linear Regression (8 points)"
   ]
  },
  {
   "cell_type": "code",
   "execution_count": 12,
   "metadata": {},
   "outputs": [
    {
     "name": "stdout",
     "output_type": "stream",
     "text": [
      "Root Mean Squared Error on (train + val) data: 151.588\n",
      "Mean Absolute Error on (train + val) data: 120.78\n",
      "Root Mean Squared Error on test data: 148.474\n",
      "Mean Absolute Error on test data: 118.729\n"
     ]
    }
   ],
   "source": [
    "# Implement Linear Regression.\n",
    "# Use both train and val data for training purpose.\n",
    "# Make preditions on both training(train+val) and test data.\n",
    "\n",
    "linear_model = LinearRegression()    # instantiate linear model\n",
    "linear_model.fit(x, y)               # fit the model\n",
    "\n",
    "pred_y = linear_model.predict(x)            # make predictions on train + val data\n",
    "pred_test = linear_model.predict(test_x)    # make predictions on test data\n",
    "\n",
    "print(f\"Root Mean Squared Error on (train + val) data: {round(np.sqrt(mean_squared_error(y, pred_y)), 3)}\")\n",
    "print(f\"Mean Absolute Error on (train + val) data: {round(mean_absolute_error(y, pred_y), 3)}\")\n",
    "\n",
    "print(f\"Root Mean Squared Error on test data: {round(np.sqrt(mean_squared_error(test_y, pred_test)), 3)}\")\n",
    "print(f\"Mean Absolute Error on test data: {round(mean_absolute_error(test_y, pred_test), 3)}\")"
   ]
  },
  {
   "cell_type": "markdown",
   "metadata": {},
   "source": [
    "#### 4.2. Ridge Regression (8 points)"
   ]
  },
  {
   "cell_type": "code",
   "execution_count": 13,
   "metadata": {},
   "outputs": [
    {
     "name": "stdout",
     "output_type": "stream",
     "text": [
      "Root Mean Squared Error on val data for lambda = 0.0 is:           155.347\n",
      "Mean Absolute Error on val data for lambda = 0.0 is:           123.179\n",
      "Root Mean Squared Error on val data for lambda = 0.1 is:           155.347\n",
      "Mean Absolute Error on val data for lambda = 0.1 is:           123.179\n",
      "Root Mean Squared Error on val data for lambda = 0.2 is:           155.347\n",
      "Mean Absolute Error on val data for lambda = 0.2 is:           123.179\n",
      "Root Mean Squared Error on val data for lambda = 0.3 is:           155.347\n",
      "Mean Absolute Error on val data for lambda = 0.3 is:           123.179\n",
      "Root Mean Squared Error on val data for lambda = 0.4 is:           155.347\n",
      "Mean Absolute Error on val data for lambda = 0.4 is:           123.179\n",
      "Root Mean Squared Error on val data for lambda = 0.5 is:           155.347\n",
      "Mean Absolute Error on val data for lambda = 0.5 is:           123.179\n",
      "Root Mean Squared Error on val data for lambda = 0.6 is:           155.347\n",
      "Mean Absolute Error on val data for lambda = 0.6 is:           123.179\n",
      "Root Mean Squared Error on val data for lambda = 0.7 is:           155.347\n",
      "Mean Absolute Error on val data for lambda = 0.7 is:           123.179\n",
      "Root Mean Squared Error on val data for lambda = 0.8 is:           155.347\n",
      "Mean Absolute Error on val data for lambda = 0.8 is:           123.179\n",
      "Root Mean Squared Error on val data for lambda = 0.9 is:           155.347\n",
      "Mean Absolute Error on val data for lambda = 0.9 is:           123.179\n",
      "Root Mean Squared Error on val data for lambda = 1.0 is:           155.347\n",
      "Mean Absolute Error on val data for lambda = 1.0 is:           123.179\n"
     ]
    }
   ],
   "source": [
    "# Implement Ridge Regression.\n",
    "# Perform cross validation to find a good value for your hyper-parameter.\n",
    "# After choosing a good value for your hyper-parameter, use both train and val data for final training purpose of your model.\n",
    "# Make preditions on both training(train+val) and test data.\n",
    "lambda_val = np.arange(0, 1.1, 0.1)\n",
    "\n",
    "for alpha in lambda_val:\n",
    "    ridge_model = Ridge(alpha = alpha)\n",
    "    ridge_model.fit(train_x, train_y)\n",
    "    \n",
    "    print(f\"Root Mean Squared Error on val data for lambda = {round(alpha, 2)} is: \\\n",
    "          {round(np.sqrt(mean_squared_error(val_y, ridge_model.predict(val_x))), 3)}\")\n",
    "    print(f\"Mean Absolute Error on val data for lambda = {round(alpha, 2)} is: \\\n",
    "          {round(mean_absolute_error(val_y, ridge_model.predict(val_x)), 3)}\")"
   ]
  },
  {
   "cell_type": "markdown",
   "metadata": {},
   "source": [
    "### We obtained almost identical RMSE values for regularization parameter in the range(0.1, 1)\n",
    "- Let's use alpha = 1 to fit our ridge regression model on the train + val data"
   ]
  },
  {
   "cell_type": "code",
   "execution_count": 14,
   "metadata": {},
   "outputs": [
    {
     "name": "stdout",
     "output_type": "stream",
     "text": [
      "Root Mean Squared Error on (train + val) data: 151.588\n",
      "Mean Absolute Error on (train + val) data: 120.78\n",
      "Root Mean Squared Error on test data: 148.474\n",
      "Mean Absolute Error on test data: 118.729\n"
     ]
    }
   ],
   "source": [
    "ridge_model = Ridge(alpha = 1)\n",
    "ridge_model.fit(x, y)\n",
    "\n",
    "pred_y = ridge_model.predict(x)\n",
    "pred_test = ridge_model.predict(test_x)\n",
    "\n",
    "print(f\"Root Mean Squared Error on (train + val) data: {round(np.sqrt(mean_squared_error(y, pred_y)), 3)}\")\n",
    "print(f\"Mean Absolute Error on (train + val) data: {round(mean_absolute_error(y, pred_y), 3)}\")\n",
    "\n",
    "print(f\"Root Mean Squared Error on test data: {round(np.sqrt(mean_squared_error(test_y, pred_test)), 3)}\")\n",
    "print(f\"Mean Absolute Error on test data: {round(mean_absolute_error(test_y, pred_test), 3)}\")"
   ]
  },
  {
   "cell_type": "markdown",
   "metadata": {},
   "source": [
    "#### 4.3. Lasso Regression (8 points)"
   ]
  },
  {
   "cell_type": "code",
   "execution_count": 15,
   "metadata": {},
   "outputs": [
    {
     "name": "stdout",
     "output_type": "stream",
     "text": [
      "Root Mean Squared Error on val data for lambda = 0.1 is:           155.347\n",
      "Mean Absolute Error on val data for lambda = 0.1 is:           123.179\n",
      "Root Mean Squared Error on val data for lambda = 0.2 is:           155.347\n",
      "Mean Absolute Error on val data for lambda = 0.2 is:           123.179\n",
      "Root Mean Squared Error on val data for lambda = 0.3 is:           155.347\n",
      "Mean Absolute Error on val data for lambda = 0.3 is:           123.179\n",
      "Root Mean Squared Error on val data for lambda = 0.4 is:           155.347\n",
      "Mean Absolute Error on val data for lambda = 0.4 is:           123.179\n",
      "Root Mean Squared Error on val data for lambda = 0.5 is:           155.347\n",
      "Mean Absolute Error on val data for lambda = 0.5 is:           123.179\n",
      "Root Mean Squared Error on val data for lambda = 0.6 is:           155.347\n",
      "Mean Absolute Error on val data for lambda = 0.6 is:           123.179\n",
      "Root Mean Squared Error on val data for lambda = 0.7 is:           155.347\n",
      "Mean Absolute Error on val data for lambda = 0.7 is:           123.179\n",
      "Root Mean Squared Error on val data for lambda = 0.8 is:           155.346\n",
      "Mean Absolute Error on val data for lambda = 0.8 is:           123.179\n",
      "Root Mean Squared Error on val data for lambda = 0.9 is:           155.346\n",
      "Mean Absolute Error on val data for lambda = 0.9 is:           123.179\n",
      "Root Mean Squared Error on val data for lambda = 1.0 is:           155.346\n",
      "Mean Absolute Error on val data for lambda = 1.0 is:           123.179\n"
     ]
    }
   ],
   "source": [
    "# Implement Lasso Regression.\n",
    "# Perform cross validation to find a good value for your hyper-parameter.\n",
    "# After choosing a good value for your hyper-parameter, use both train and val data for final training purpose of your model.\n",
    "# Make preditions on both training(train+val) and test data.\n",
    "lambda_val = np.arange(0.1, 1.1, 0.1)\n",
    "\n",
    "for alpha in lambda_val:\n",
    "    lasso_model = Lasso(alpha = alpha)\n",
    "    lasso_model.fit(train_x, train_y)\n",
    "    \n",
    "    print(f\"Root Mean Squared Error on val data for lambda = {round(alpha, 2)} is: \\\n",
    "          {round(np.sqrt(mean_squared_error(val_y, lasso_model.predict(val_x))), 3)}\")\n",
    "          \n",
    "    print(f\"Mean Absolute Error on val data for lambda = {round(alpha, 2)} is: \\\n",
    "          {round(mean_absolute_error(val_y, lasso_model.predict(val_x)), 3)}\")"
   ]
  },
  {
   "cell_type": "markdown",
   "metadata": {},
   "source": [
    "### We obtained almost identical RMSE values for regularization parameter in the range(0.1, 1)\n",
    "- Let's use alpha = 1 to fit our lasso regression model on the train + val data"
   ]
  },
  {
   "cell_type": "code",
   "execution_count": 16,
   "metadata": {},
   "outputs": [
    {
     "name": "stdout",
     "output_type": "stream",
     "text": [
      "Root Mean Squared Error on (train + val) data: 151.588\n",
      "Mean Absolute Error on (train + val) data: 120.78\n",
      "Root Mean Squared Error on test data: 148.473\n",
      "Mean Absolute Error on test data: 118.728\n"
     ]
    }
   ],
   "source": [
    "lasso_model = Lasso(alpha = 1)\n",
    "lasso_model.fit(x, y)\n",
    "pred_y = lasso_model.predict(x)\n",
    "pred_test = lasso_model.predict(test_x)\n",
    "\n",
    "print(f\"Root Mean Squared Error on (train + val) data: {round(np.sqrt(mean_squared_error(y, pred_y)), 3)}\")\n",
    "print(f\"Mean Absolute Error on (train + val) data: {round(mean_absolute_error(y, pred_y), 3)}\")\n",
    "\n",
    "print(f\"Root Mean Squared Error on test data: {round(np.sqrt(mean_squared_error(test_y, pred_test)), 3)}\")\n",
    "print(f\"Mean Absolute Error on test data: {round(mean_absolute_error(test_y, pred_test), 3)}\")"
   ]
  },
  {
   "cell_type": "markdown",
   "metadata": {},
   "source": [
    "#### 4.4. ElasticNet Regression (8 points)"
   ]
  },
  {
   "cell_type": "code",
   "execution_count": 17,
   "metadata": {},
   "outputs": [
    {
     "name": "stdout",
     "output_type": "stream",
     "text": [
      "Root Mean Squared Error on val data for lambda = 0.1 is:           155.347\n",
      "Mean Absolute Error on val data for lambda = 0.1 is:           123.179\n",
      "Root Mean Squared Error on val data for lambda = 0.2 is:           155.346\n",
      "Mean Absolute Error on val data for lambda = 0.2 is:           123.179\n",
      "Root Mean Squared Error on val data for lambda = 0.3 is:           155.346\n",
      "Mean Absolute Error on val data for lambda = 0.3 is:           123.179\n",
      "Root Mean Squared Error on val data for lambda = 0.4 is:           155.346\n",
      "Mean Absolute Error on val data for lambda = 0.4 is:           123.179\n",
      "Root Mean Squared Error on val data for lambda = 0.5 is:           155.346\n",
      "Mean Absolute Error on val data for lambda = 0.5 is:           123.179\n",
      "Root Mean Squared Error on val data for lambda = 0.6 is:           155.345\n",
      "Mean Absolute Error on val data for lambda = 0.6 is:           123.179\n",
      "Root Mean Squared Error on val data for lambda = 0.7 is:           155.345\n",
      "Mean Absolute Error on val data for lambda = 0.7 is:           123.179\n",
      "Root Mean Squared Error on val data for lambda = 0.8 is:           155.345\n",
      "Mean Absolute Error on val data for lambda = 0.8 is:           123.179\n",
      "Root Mean Squared Error on val data for lambda = 0.9 is:           155.344\n",
      "Mean Absolute Error on val data for lambda = 0.9 is:           123.179\n",
      "Root Mean Squared Error on val data for lambda = 1.0 is:           155.344\n",
      "Mean Absolute Error on val data for lambda = 1.0 is:           123.179\n"
     ]
    }
   ],
   "source": [
    "# Implement ElasticNet Regression.\n",
    "# Perform cross validation to find a good value for your hyper-parameters.\n",
    "# After choosing a good value for your hyper-parameter, use both train and val data for final training purpose of your model.\n",
    "# Make preditions on both training(train+val) and test data.\n",
    "lambda_val = np.arange(0.1, 1.1, 0.1)\n",
    "\n",
    "for alpha in lambda_val:\n",
    "    enet_model = ElasticNet(l1_ratio = 0.5, alpha = alpha)\n",
    "    enet_model.fit(train_x, train_y)\n",
    "    print(f\"Root Mean Squared Error on val data for lambda = {round(alpha, 2)} is: \\\n",
    "          {round(np.sqrt(mean_squared_error(val_y, enet_model.predict(val_x))), 3)}\")\n",
    "    \n",
    "    print(f\"Mean Absolute Error on val data for lambda = {round(alpha, 2)} is: \\\n",
    "          {round(mean_absolute_error(val_y, enet_model.predict(val_x)), 3)}\")"
   ]
  },
  {
   "cell_type": "markdown",
   "metadata": {},
   "source": [
    "### We obtained almost identical RMSE values for regularization parameter in the range(0.1, 1)\n",
    "- Let's use alpha = 1 to fit our lasso regression model on the train + val data"
   ]
  },
  {
   "cell_type": "code",
   "execution_count": 18,
   "metadata": {},
   "outputs": [
    {
     "name": "stdout",
     "output_type": "stream",
     "text": [
      "Root Mean Squared Error on (train + val) data: 151.588\n",
      "Mean Absolute Error on (train + val) data: 120.783\n",
      "Root Mean Squared Error on test data: 148.476\n",
      "Mean Absolute Error on test data: 118.734\n"
     ]
    }
   ],
   "source": [
    "enet_model = ElasticNet(l1_ratio = 0.5, alpha = 1)\n",
    "enet_model.fit(x, y)\n",
    "\n",
    "pred_y = enet_model.predict(x)\n",
    "pred_test = enet_model.predict(test_x)\n",
    "\n",
    "print(f\"Root Mean Squared Error on (train + val) data: {round(np.sqrt(mean_squared_error(y, pred_y)), 3)}\")\n",
    "print(f\"Mean Absolute Error on (train + val) data: {round(mean_absolute_error(y, pred_y), 3)}\")\n",
    "\n",
    "print(f\"Root Mean Squared Error on test data: {round(np.sqrt(mean_squared_error(test_y, pred_test)), 3)}\")\n",
    "print(f\"Mean Absolute Error on test data: {round(mean_absolute_error(test_y, pred_test), 3)}\")"
   ]
  },
  {
   "cell_type": "markdown",
   "metadata": {},
   "source": [
    "### 5. Analysis (8 points)"
   ]
  },
  {
   "cell_type": "code",
   "execution_count": 19,
   "metadata": {},
   "outputs": [
    {
     "name": "stdout",
     "output_type": "stream",
     "text": [
      "Different linear models prediction for 10 points in the test set\n"
     ]
    },
    {
     "data": {
      "text/html": [
       "<div>\n",
       "<style scoped>\n",
       "    .dataframe tbody tr th:only-of-type {\n",
       "        vertical-align: middle;\n",
       "    }\n",
       "\n",
       "    .dataframe tbody tr th {\n",
       "        vertical-align: top;\n",
       "    }\n",
       "\n",
       "    .dataframe thead th {\n",
       "        text-align: right;\n",
       "    }\n",
       "</style>\n",
       "<table border=\"1\" class=\"dataframe\">\n",
       "  <thead>\n",
       "    <tr style=\"text-align: right;\">\n",
       "      <th></th>\n",
       "      <th>Actual</th>\n",
       "      <th>Pred_Linear</th>\n",
       "      <th>Pred_Ridge</th>\n",
       "      <th>Pred_Lasso</th>\n",
       "      <th>Pred_Elastic</th>\n",
       "    </tr>\n",
       "  </thead>\n",
       "  <tbody>\n",
       "    <tr>\n",
       "      <th>0</th>\n",
       "      <td>66.12</td>\n",
       "      <td>61.235630</td>\n",
       "      <td>61.235624</td>\n",
       "      <td>61.232172</td>\n",
       "      <td>61.226848</td>\n",
       "    </tr>\n",
       "    <tr>\n",
       "      <th>1</th>\n",
       "      <td>-572.89</td>\n",
       "      <td>-576.474002</td>\n",
       "      <td>-576.474023</td>\n",
       "      <td>-576.443849</td>\n",
       "      <td>-576.479017</td>\n",
       "    </tr>\n",
       "    <tr>\n",
       "      <th>2</th>\n",
       "      <td>-94.71</td>\n",
       "      <td>-112.489283</td>\n",
       "      <td>-112.489297</td>\n",
       "      <td>-112.483376</td>\n",
       "      <td>-112.501485</td>\n",
       "    </tr>\n",
       "    <tr>\n",
       "      <th>3</th>\n",
       "      <td>-306.84</td>\n",
       "      <td>-413.460170</td>\n",
       "      <td>-413.460033</td>\n",
       "      <td>-413.446708</td>\n",
       "      <td>-413.293023</td>\n",
       "    </tr>\n",
       "    <tr>\n",
       "      <th>4</th>\n",
       "      <td>580.10</td>\n",
       "      <td>602.521612</td>\n",
       "      <td>602.521358</td>\n",
       "      <td>602.503390</td>\n",
       "      <td>602.215408</td>\n",
       "    </tr>\n",
       "    <tr>\n",
       "      <th>5</th>\n",
       "      <td>-34.05</td>\n",
       "      <td>-19.808152</td>\n",
       "      <td>-19.808103</td>\n",
       "      <td>-19.810322</td>\n",
       "      <td>-19.752688</td>\n",
       "    </tr>\n",
       "    <tr>\n",
       "      <th>6</th>\n",
       "      <td>-81.37</td>\n",
       "      <td>-172.968197</td>\n",
       "      <td>-172.968100</td>\n",
       "      <td>-172.964998</td>\n",
       "      <td>-172.854030</td>\n",
       "    </tr>\n",
       "    <tr>\n",
       "      <th>7</th>\n",
       "      <td>552.60</td>\n",
       "      <td>601.278257</td>\n",
       "      <td>601.278079</td>\n",
       "      <td>601.256109</td>\n",
       "      <td>601.057385</td>\n",
       "    </tr>\n",
       "    <tr>\n",
       "      <th>8</th>\n",
       "      <td>-24.39</td>\n",
       "      <td>-42.406417</td>\n",
       "      <td>-42.406532</td>\n",
       "      <td>-42.398794</td>\n",
       "      <td>-42.534678</td>\n",
       "    </tr>\n",
       "    <tr>\n",
       "      <th>9</th>\n",
       "      <td>538.47</td>\n",
       "      <td>558.283905</td>\n",
       "      <td>558.283791</td>\n",
       "      <td>558.260559</td>\n",
       "      <td>558.137315</td>\n",
       "    </tr>\n",
       "  </tbody>\n",
       "</table>\n",
       "</div>"
      ],
      "text/plain": [
       "   Actual  Pred_Linear  Pred_Ridge  Pred_Lasso  Pred_Elastic\n",
       "0   66.12    61.235630   61.235624   61.232172     61.226848\n",
       "1 -572.89  -576.474002 -576.474023 -576.443849   -576.479017\n",
       "2  -94.71  -112.489283 -112.489297 -112.483376   -112.501485\n",
       "3 -306.84  -413.460170 -413.460033 -413.446708   -413.293023\n",
       "4  580.10   602.521612  602.521358  602.503390    602.215408\n",
       "5  -34.05   -19.808152  -19.808103  -19.810322    -19.752688\n",
       "6  -81.37  -172.968197 -172.968100 -172.964998   -172.854030\n",
       "7  552.60   601.278257  601.278079  601.256109    601.057385\n",
       "8  -24.39   -42.406417  -42.406532  -42.398794    -42.534678\n",
       "9  538.47   558.283905  558.283791  558.260559    558.137315"
      ]
     },
     "execution_count": 19,
     "metadata": {},
     "output_type": "execute_result"
    }
   ],
   "source": [
    "# Write down the actual value along with the preditions from all the regression models, for the first 10 points in test data.\n",
    "# Find both RMSE and MAE for all the regression models on both training(train+val) and testing data.\n",
    "\n",
    "test_x_10 = test_x[:10]    # select 10 data point from test set for prediction\n",
    "test_y_10 = test_y[:10]    # actula targets for 10 data points\n",
    "\n",
    "pred_linear_10 = linear_model.predict(test_x_10)    # linear model prediction\n",
    "pred_ridge_10 = ridge_model.predict(test_x_10)      # ridge model prediction\n",
    "pred_lasso_10 = lasso_model.predict(test_x_10)      # lasso model prediction\n",
    "pred_enet_10 = enet_model.predict(test_x_10)        # elastic net model prediction\n",
    "\n",
    "print('Different linear models prediction for 10 points in the test set')\n",
    "pred_10 = pd.DataFrame({'Actual': test_y_10, 'Pred_Linear': pred_linear_10, 'Pred_Ridge': pred_ridge_10, 'Pred_Lasso': pred_lasso_10, 'Pred_Elastic':pred_enet_10})\n",
    "\n",
    "pred_10"
   ]
  },
  {
   "cell_type": "markdown",
   "metadata": {},
   "source": [
    "### RMSE and MAE for all models on (train + val) and test set have been printed in the corresponding model section "
   ]
  },
  {
   "cell_type": "markdown",
   "metadata": {},
   "source": [
    "### 6. Final Observations (2 points)"
   ]
  },
  {
   "cell_type": "code",
   "execution_count": null,
   "metadata": {},
   "outputs": [],
   "source": [
    "# Write down your final conclusions/observations."
   ]
  },
  {
   "cell_type": "markdown",
   "metadata": {},
   "source": [
    "- All four models (Linear, Ridge, Lasso and Elastic Net) resulted in the same MAE and RMSE on the (train + val) and test set.\n",
    "- Even different values of regularization parameter resulted in the same MAE and MSE on the validation and test set.\n",
    "\n",
    "- It appears that this data has been sampled from normal distribution. \n",
    "- Since regularization parameter has no effect on the MAE and MSE, linear model without regularization doesn't overfit."
   ]
  },
  {
   "cell_type": "code",
   "execution_count": null,
   "metadata": {},
   "outputs": [],
   "source": []
  }
 ],
 "metadata": {
  "kernelspec": {
   "display_name": "Python 3",
   "language": "python",
   "name": "python3"
  },
  "language_info": {
   "codemirror_mode": {
    "name": "ipython",
    "version": 3
   },
   "file_extension": ".py",
   "mimetype": "text/x-python",
   "name": "python",
   "nbconvert_exporter": "python",
   "pygments_lexer": "ipython3",
   "version": "3.7.4"
  }
 },
 "nbformat": 4,
 "nbformat_minor": 4
}
