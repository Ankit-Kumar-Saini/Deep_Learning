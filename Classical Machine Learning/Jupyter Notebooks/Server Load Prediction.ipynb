{
 "cells": [
  {
   "cell_type": "markdown",
   "metadata": {},
   "source": [
    "# Server Load Prediction "
   ]
  },
  {
   "cell_type": "markdown",
   "metadata": {},
   "source": [
    "### Import necessary modules"
   ]
  },
  {
   "cell_type": "code",
   "execution_count": 1,
   "metadata": {},
   "outputs": [],
   "source": [
    "import numpy as np\n",
    "import pandas as pd\n",
    "import seaborn as sns\n",
    "import matplotlib.pyplot as plt\n",
    "%matplotlib inline"
   ]
  },
  {
   "cell_type": "markdown",
   "metadata": {},
   "source": [
    "### Read the train and test data into pandas dataframe"
   ]
  },
  {
   "cell_type": "code",
   "execution_count": 2,
   "metadata": {
    "_cell_guid": "79c7e3d0-c299-4dcb-8224-4455121ee9b0",
    "_uuid": "d629ff2d2480ee46fbb7e2d37f6b5fab8052498a"
   },
   "outputs": [
    {
     "data": {
      "text/html": [
       "<div>\n",
       "<style scoped>\n",
       "    .dataframe tbody tr th:only-of-type {\n",
       "        vertical-align: middle;\n",
       "    }\n",
       "\n",
       "    .dataframe tbody tr th {\n",
       "        vertical-align: top;\n",
       "    }\n",
       "\n",
       "    .dataframe thead th {\n",
       "        text-align: right;\n",
       "    }\n",
       "</style>\n",
       "<table border=\"1\" class=\"dataframe\">\n",
       "  <thead>\n",
       "    <tr style=\"text-align: right;\">\n",
       "      <th></th>\n",
       "      <th>m_id</th>\n",
       "      <th>syst_direct_ipo_rate</th>\n",
       "      <th>syst_buffered_ipo_rate</th>\n",
       "      <th>syst_page_fault_rate</th>\n",
       "      <th>syst_page_read_ipo_rate</th>\n",
       "      <th>syst_process_count</th>\n",
       "      <th>syst_other_states</th>\n",
       "      <th>page_page_write_ipo_rate</th>\n",
       "      <th>page_global_valid_fault_rate</th>\n",
       "      <th>page_free_list_size</th>\n",
       "      <th>...</th>\n",
       "      <th>tcp_kpalv</th>\n",
       "      <th>lla0_pkts_recvpsec</th>\n",
       "      <th>lla0_pkts_sentpsec</th>\n",
       "      <th>llb0_pkts_recvpsec</th>\n",
       "      <th>llb0_pkts_sentpsec</th>\n",
       "      <th>ewc0_pkts_recvpsec</th>\n",
       "      <th>ewc0_pkts_sentpsec</th>\n",
       "      <th>ewd0_pkts_recvpsec</th>\n",
       "      <th>ewd0_pkts_sentpsec</th>\n",
       "      <th>cpu_load</th>\n",
       "    </tr>\n",
       "  </thead>\n",
       "  <tbody>\n",
       "    <tr>\n",
       "      <th>0</th>\n",
       "      <td>c</td>\n",
       "      <td>38.50</td>\n",
       "      <td>458.07</td>\n",
       "      <td>0.00</td>\n",
       "      <td>0.0</td>\n",
       "      <td>259</td>\n",
       "      <td>22</td>\n",
       "      <td>0.4</td>\n",
       "      <td>0.00</td>\n",
       "      <td>170323</td>\n",
       "      <td>...</td>\n",
       "      <td>0</td>\n",
       "      <td>415.483</td>\n",
       "      <td>479.983</td>\n",
       "      <td>15.367</td>\n",
       "      <td>20.667</td>\n",
       "      <td>281.383</td>\n",
       "      <td>245.533</td>\n",
       "      <td>278.767</td>\n",
       "      <td>277.300</td>\n",
       "      <td>medium</td>\n",
       "    </tr>\n",
       "    <tr>\n",
       "      <th>1</th>\n",
       "      <td>a</td>\n",
       "      <td>66.43</td>\n",
       "      <td>657.65</td>\n",
       "      <td>0.43</td>\n",
       "      <td>0.0</td>\n",
       "      <td>272</td>\n",
       "      <td>12</td>\n",
       "      <td>23.8</td>\n",
       "      <td>0.40</td>\n",
       "      <td>121776</td>\n",
       "      <td>...</td>\n",
       "      <td>0</td>\n",
       "      <td>526.533</td>\n",
       "      <td>554.550</td>\n",
       "      <td>67.300</td>\n",
       "      <td>88.650</td>\n",
       "      <td>438.583</td>\n",
       "      <td>401.633</td>\n",
       "      <td>436.000</td>\n",
       "      <td>366.183</td>\n",
       "      <td>medium</td>\n",
       "    </tr>\n",
       "    <tr>\n",
       "      <th>2</th>\n",
       "      <td>f</td>\n",
       "      <td>29.07</td>\n",
       "      <td>322.25</td>\n",
       "      <td>0.00</td>\n",
       "      <td>0.0</td>\n",
       "      <td>171</td>\n",
       "      <td>10</td>\n",
       "      <td>0.0</td>\n",
       "      <td>0.00</td>\n",
       "      <td>271435</td>\n",
       "      <td>...</td>\n",
       "      <td>0</td>\n",
       "      <td>337.967</td>\n",
       "      <td>314.067</td>\n",
       "      <td>0.667</td>\n",
       "      <td>0.017</td>\n",
       "      <td>230.333</td>\n",
       "      <td>230.050</td>\n",
       "      <td>220.200</td>\n",
       "      <td>240.333</td>\n",
       "      <td>low</td>\n",
       "    </tr>\n",
       "    <tr>\n",
       "      <th>3</th>\n",
       "      <td>e</td>\n",
       "      <td>1063.13</td>\n",
       "      <td>286.92</td>\n",
       "      <td>4.08</td>\n",
       "      <td>0.0</td>\n",
       "      <td>253</td>\n",
       "      <td>10</td>\n",
       "      <td>0.0</td>\n",
       "      <td>0.15</td>\n",
       "      <td>171316</td>\n",
       "      <td>...</td>\n",
       "      <td>0</td>\n",
       "      <td>336.000</td>\n",
       "      <td>379.833</td>\n",
       "      <td>24.250</td>\n",
       "      <td>33.400</td>\n",
       "      <td>249.767</td>\n",
       "      <td>251.300</td>\n",
       "      <td>178.183</td>\n",
       "      <td>139.733</td>\n",
       "      <td>high</td>\n",
       "    </tr>\n",
       "    <tr>\n",
       "      <th>4</th>\n",
       "      <td>f</td>\n",
       "      <td>22.97</td>\n",
       "      <td>369.32</td>\n",
       "      <td>0.00</td>\n",
       "      <td>0.0</td>\n",
       "      <td>165</td>\n",
       "      <td>10</td>\n",
       "      <td>0.0</td>\n",
       "      <td>0.00</td>\n",
       "      <td>280388</td>\n",
       "      <td>...</td>\n",
       "      <td>0</td>\n",
       "      <td>300.833</td>\n",
       "      <td>314.983</td>\n",
       "      <td>0.733</td>\n",
       "      <td>0.017</td>\n",
       "      <td>295.583</td>\n",
       "      <td>257.300</td>\n",
       "      <td>274.200</td>\n",
       "      <td>237.250</td>\n",
       "      <td>low</td>\n",
       "    </tr>\n",
       "  </tbody>\n",
       "</table>\n",
       "<p>5 rows × 88 columns</p>\n",
       "</div>"
      ],
      "text/plain": [
       "  m_id  syst_direct_ipo_rate  syst_buffered_ipo_rate  syst_page_fault_rate  \\\n",
       "0    c                 38.50                  458.07                  0.00   \n",
       "1    a                 66.43                  657.65                  0.43   \n",
       "2    f                 29.07                  322.25                  0.00   \n",
       "3    e               1063.13                  286.92                  4.08   \n",
       "4    f                 22.97                  369.32                  0.00   \n",
       "\n",
       "   syst_page_read_ipo_rate  syst_process_count  syst_other_states  \\\n",
       "0                      0.0                 259                 22   \n",
       "1                      0.0                 272                 12   \n",
       "2                      0.0                 171                 10   \n",
       "3                      0.0                 253                 10   \n",
       "4                      0.0                 165                 10   \n",
       "\n",
       "   page_page_write_ipo_rate  page_global_valid_fault_rate  \\\n",
       "0                       0.4                          0.00   \n",
       "1                      23.8                          0.40   \n",
       "2                       0.0                          0.00   \n",
       "3                       0.0                          0.15   \n",
       "4                       0.0                          0.00   \n",
       "\n",
       "   page_free_list_size  ...  tcp_kpalv  lla0_pkts_recvpsec  \\\n",
       "0               170323  ...          0             415.483   \n",
       "1               121776  ...          0             526.533   \n",
       "2               271435  ...          0             337.967   \n",
       "3               171316  ...          0             336.000   \n",
       "4               280388  ...          0             300.833   \n",
       "\n",
       "   lla0_pkts_sentpsec  llb0_pkts_recvpsec  llb0_pkts_sentpsec  \\\n",
       "0             479.983              15.367              20.667   \n",
       "1             554.550              67.300              88.650   \n",
       "2             314.067               0.667               0.017   \n",
       "3             379.833              24.250              33.400   \n",
       "4             314.983               0.733               0.017   \n",
       "\n",
       "   ewc0_pkts_recvpsec  ewc0_pkts_sentpsec  ewd0_pkts_recvpsec  \\\n",
       "0             281.383             245.533             278.767   \n",
       "1             438.583             401.633             436.000   \n",
       "2             230.333             230.050             220.200   \n",
       "3             249.767             251.300             178.183   \n",
       "4             295.583             257.300             274.200   \n",
       "\n",
       "   ewd0_pkts_sentpsec  cpu_load  \n",
       "0             277.300    medium  \n",
       "1             366.183    medium  \n",
       "2             240.333       low  \n",
       "3             139.733      high  \n",
       "4             237.250       low  \n",
       "\n",
       "[5 rows x 88 columns]"
      ]
     },
     "execution_count": 2,
     "metadata": {},
     "output_type": "execute_result"
    }
   ],
   "source": [
    "train_df = pd.read_csv('server_train.csv')\n",
    "test_df = pd.read_csv('server_test.csv')\n",
    "\n",
    "train_df.head()"
   ]
  },
  {
   "cell_type": "code",
   "execution_count": 4,
   "metadata": {},
   "outputs": [
    {
     "name": "stdout",
     "output_type": "stream",
     "text": [
      "Shape of train data frame: (119782, 88)\n",
      "Shape of test data frame: (58998, 88)\n"
     ]
    }
   ],
   "source": [
    "## Check the shape of the train and test dataframe\n",
    "print(f'Shape of train data frame: {train_df.shape}')\n",
    "print(f'Shape of test data frame: {test_df.shape}')"
   ]
  },
  {
   "cell_type": "code",
   "execution_count": 5,
   "metadata": {
    "scrolled": true
   },
   "outputs": [
    {
     "name": "stdout",
     "output_type": "stream",
     "text": [
      "<class 'pandas.core.frame.DataFrame'>\n",
      "RangeIndex: 119782 entries, 0 to 119781\n",
      "Data columns (total 88 columns):\n",
      " #   Column                        Non-Null Count   Dtype  \n",
      "---  ------                        --------------   -----  \n",
      " 0   m_id                          119782 non-null  object \n",
      " 1   syst_direct_ipo_rate          119782 non-null  float64\n",
      " 2   syst_buffered_ipo_rate        119782 non-null  float64\n",
      " 3   syst_page_fault_rate          119782 non-null  float64\n",
      " 4   syst_page_read_ipo_rate       119782 non-null  float64\n",
      " 5   syst_process_count            119782 non-null  int64  \n",
      " 6   syst_other_states             119782 non-null  int64  \n",
      " 7   page_page_write_ipo_rate      119782 non-null  float64\n",
      " 8   page_global_valid_fault_rate  119782 non-null  float64\n",
      " 9   page_free_list_size           119782 non-null  int64  \n",
      " 10  page_modified_list_size       119782 non-null  int64  \n",
      " 11  io_mailbox_write_rate         119782 non-null  float64\n",
      " 12  io_split_transfer_rate        119782 non-null  float64\n",
      " 13  io_file_open_rate             119782 non-null  float64\n",
      " 14  io_logical_name_trans         119782 non-null  float64\n",
      " 15  io_page_reads                 119782 non-null  float64\n",
      " 16  io_page_writes                119782 non-null  float64\n",
      " 17  page_free_list_faults         119782 non-null  float64\n",
      " 18  page_modified_list_faults     119782 non-null  float64\n",
      " 19  page_demand_zero_faults       119782 non-null  float64\n",
      " 20  state_compute                 119782 non-null  int64  \n",
      " 21  state_mwait                   119782 non-null  int64  \n",
      " 22  state_lef                     119782 non-null  int64  \n",
      " 23  state_hib                     119782 non-null  int64  \n",
      " 24  state_cur                     119782 non-null  int64  \n",
      " 25  app06_dirio                   119782 non-null  int64  \n",
      " 26  app06_bufio                   119782 non-null  int64  \n",
      " 27  app06_pgflts                  119782 non-null  int64  \n",
      " 28  app06_proccount               119782 non-null  int64  \n",
      " 29  app06_pagesgbl                119782 non-null  int64  \n",
      " 30  app06_pagesproc               119782 non-null  int64  \n",
      " 31  app07_dirio                   119782 non-null  float64\n",
      " 32  app07_bufio                   119782 non-null  float64\n",
      " 33  app07_pgflts                  119782 non-null  float64\n",
      " 34  app07_proccount               119782 non-null  int64  \n",
      " 35  app07_pagesgbl                119782 non-null  int64  \n",
      " 36  app07_pagesproc               119782 non-null  int64  \n",
      " 37  app04_dirio                   119782 non-null  float64\n",
      " 38  app04_bufio                   119782 non-null  float64\n",
      " 39  app04_pgflts                  119782 non-null  float64\n",
      " 40  app04_proccount               119782 non-null  int64  \n",
      " 41  app04_pagesgbl                119782 non-null  int64  \n",
      " 42  app04_pagesproc               119782 non-null  int64  \n",
      " 43  app08_dirio                   119782 non-null  float64\n",
      " 44  app08_bufio                   119782 non-null  float64\n",
      " 45  app08_pgflts                  119782 non-null  float64\n",
      " 46  app08_proccount               119782 non-null  int64  \n",
      " 47  app08_pagesgbl                119782 non-null  int64  \n",
      " 48  app08_pagesproc               119782 non-null  int64  \n",
      " 49  app01_dirio                   119782 non-null  float64\n",
      " 50  app01_bufio                   119782 non-null  float64\n",
      " 51  app01_pgflts                  119782 non-null  float64\n",
      " 52  app01_proccount               119782 non-null  int64  \n",
      " 53  app01_pagesgbl                119782 non-null  int64  \n",
      " 54  app01_pagesproc               119782 non-null  int64  \n",
      " 55  app05_dirio                   119782 non-null  float64\n",
      " 56  app05_bufio                   119782 non-null  float64\n",
      " 57  app05_pgflts                  119782 non-null  float64\n",
      " 58  app05_proccount               119782 non-null  int64  \n",
      " 59  app05_pagesgbl                119782 non-null  int64  \n",
      " 60  app05_pagesproc               119782 non-null  int64  \n",
      " 61  app03_dirio                   119782 non-null  float64\n",
      " 62  app03_bufio                   119782 non-null  float64\n",
      " 63  app03_pgflts                  119782 non-null  float64\n",
      " 64  app03_proccount               119782 non-null  int64  \n",
      " 65  app03_pagesgbl                119782 non-null  int64  \n",
      " 66  app03_pagesproc               119782 non-null  int64  \n",
      " 67  app02_dirio                   119782 non-null  float64\n",
      " 68  app02_bufio                   119782 non-null  float64\n",
      " 69  app02_pgflts                  119782 non-null  float64\n",
      " 70  app02_proccount               119782 non-null  int64  \n",
      " 71  app02_pagesgbl                119782 non-null  int64  \n",
      " 72  app02_pagesproc               119782 non-null  int64  \n",
      " 73  tcp_in                        119782 non-null  int64  \n",
      " 74  tcp_out                       119782 non-null  int64  \n",
      " 75  tcp_rxdup                     119782 non-null  int64  \n",
      " 76  tcp_retxpk                    119782 non-null  int64  \n",
      " 77  tcp_retxto                    119782 non-null  int64  \n",
      " 78  tcp_kpalv                     119782 non-null  int64  \n",
      " 79  lla0_pkts_recvpsec            119782 non-null  float64\n",
      " 80  lla0_pkts_sentpsec            119782 non-null  float64\n",
      " 81  llb0_pkts_recvpsec            119782 non-null  float64\n",
      " 82  llb0_pkts_sentpsec            119782 non-null  float64\n",
      " 83  ewc0_pkts_recvpsec            119782 non-null  float64\n",
      " 84  ewc0_pkts_sentpsec            119782 non-null  float64\n",
      " 85  ewd0_pkts_recvpsec            119782 non-null  float64\n",
      " 86  ewd0_pkts_sentpsec            119782 non-null  float64\n",
      " 87  cpu_load                      119782 non-null  object \n",
      "dtypes: float64(44), int64(42), object(2)\n",
      "memory usage: 80.4+ MB\n"
     ]
    }
   ],
   "source": [
    "# get basic information about the train dataset\n",
    "train_df.info()"
   ]
  },
  {
   "cell_type": "markdown",
   "metadata": {},
   "source": [
    "- Data types present in the train dataframe are **int64, float64 and object**."
   ]
  },
  {
   "cell_type": "code",
   "execution_count": 6,
   "metadata": {},
   "outputs": [
    {
     "data": {
      "text/plain": [
       "medium    62016\n",
       "low       42595\n",
       "high      15171\n",
       "Name: cpu_load, dtype: int64"
      ]
     },
     "execution_count": 6,
     "metadata": {},
     "output_type": "execute_result"
    }
   ],
   "source": [
    "# check the distribution of target variable in the train dataset\n",
    "train_df.cpu_load.value_counts()"
   ]
  },
  {
   "cell_type": "markdown",
   "metadata": {},
   "source": [
    "- **Target variable is imbalanced**."
   ]
  },
  {
   "cell_type": "code",
   "execution_count": 7,
   "metadata": {},
   "outputs": [
    {
     "data": {
      "image/png": "[encoded data removed]",
      "text/plain": [
       "<Figure size 720x432 with 1 Axes>"
      ]
     },
     "metadata": {
      "needs_background": "light"
     },
     "output_type": "display_data"
    }
   ],
   "source": [
    "# plot the distribution of target variable in the train dataset\n",
    "fig, ax = plt.subplots(figsize = (10, 6))\n",
    "sns.countplot(x = 'cpu_load', data = train_df, ax = ax)\n",
    "ax.set_title('Count of target variable in each class', fontsize = 15);"
   ]
  },
  {
   "cell_type": "markdown",
   "metadata": {},
   "source": [
    "### Check the null values in the dataframe"
   ]
  },
  {
   "cell_type": "code",
   "execution_count": 8,
   "metadata": {},
   "outputs": [
    {
     "data": {
      "text/plain": [
       "Series([], dtype: float64)"
      ]
     },
     "execution_count": 8,
     "metadata": {},
     "output_type": "execute_result"
    }
   ],
   "source": [
    "train_df[train_df.columns[train_df.isna().any()]].isnull().sum()"
   ]
  },
  {
   "cell_type": "markdown",
   "metadata": {},
   "source": [
    "- **There are no null values present in the train dataset**."
   ]
  },
  {
   "cell_type": "code",
   "execution_count": 9,
   "metadata": {},
   "outputs": [
    {
     "data": {
      "text/plain": [
       "b    17172\n",
       "d    17137\n",
       "e    17137\n",
       "f    17099\n",
       "g    17093\n",
       "a    17092\n",
       "c    17052\n",
       "Name: m_id, dtype: int64"
      ]
     },
     "execution_count": 9,
     "metadata": {},
     "output_type": "execute_result"
    }
   ],
   "source": [
    "## Check the number of servers in the train dataset\n",
    "train_df.m_id.value_counts()"
   ]
  },
  {
   "cell_type": "markdown",
   "metadata": {},
   "source": [
    "- There are 7 servers in the dataset with almost equal number of entries."
   ]
  },
  {
   "cell_type": "code",
   "execution_count": 10,
   "metadata": {},
   "outputs": [
    {
     "data": {
      "image/png": "[encoded data removed]",
      "text/plain": [
       "<Figure size 720x432 with 1 Axes>"
      ]
     },
     "metadata": {
      "needs_background": "light"
     },
     "output_type": "display_data"
    }
   ],
   "source": [
    "fig, ax = plt.subplots(figsize = (10, 6))\n",
    "sns.countplot(x = 'm_id', data = train_df, hue = 'cpu_load', ax = ax)\n",
    "ax.set_title('Distribution of target variable in each server', fontsize = 15);"
   ]
  },
  {
   "cell_type": "markdown",
   "metadata": {},
   "source": [
    "- All servers have **medium load** except the **server f** which is on **low load**.\n",
    "- Servers **e & f** have been loaded **high** least number of times. "
   ]
  },
  {
   "cell_type": "markdown",
   "metadata": {},
   "source": [
    "### NEW WORK"
   ]
  },
  {
   "cell_type": "code",
   "execution_count": 11,
   "metadata": {},
   "outputs": [],
   "source": [
    "# Server a\n",
    "server_a = train_df[train_df.m_id == 'a']\n",
    "server_a_low = server_a[server_a.cpu_load == 'low']\n",
    "server_a_medium = server_a[server_a.cpu_load == 'medium']\n",
    "server_a_high = server_a[server_a.cpu_load == 'high']"
   ]
  },
  {
   "cell_type": "code",
   "execution_count": 14,
   "metadata": {},
   "outputs": [
    {
     "data": {
      "image/png": "[encoded data removed]",
      "text/plain": [
       "<Figure size 1152x432 with 3 Axes>"
      ]
     },
     "metadata": {
      "needs_background": "light"
     },
     "output_type": "display_data"
    }
   ],
   "source": [
    "fig, ax = plt.subplots(1, 3, figsize = (16, 6))\n",
    "server_a_low['syst_direct_ipo_rate'].plot(kind = 'hist', bins = 50, ax = ax[0])\n",
    "server_a_medium['syst_direct_ipo_rate'].plot(kind = 'hist', bins = 50, ax = ax[1])\n",
    "server_a_high['syst_direct_ipo_rate'].plot(kind = 'hist', bins = 50, ax = ax[2]);"
   ]
  },
  {
   "cell_type": "code",
   "execution_count": null,
   "metadata": {},
   "outputs": [],
   "source": [
    "# set the values of server_a for high load\n",
    "server_a_high.loc[server_a_high.syst_direct_ipo_rate > 4000, 'syst_direct_ipo_rate'] = 4000"
   ]
  },
  {
   "cell_type": "code",
   "execution_count": 17,
   "metadata": {
    "scrolled": true
   },
   "outputs": [
    {
     "data": {
      "text/plain": [
       "41         0.00\n",
       "78122      0.00\n",
       "13717      0.00\n",
       "13257      0.00\n",
       "61521      0.00\n",
       "99910      0.00\n",
       "59160      0.00\n",
       "36486      0.00\n",
       "36519      0.00\n",
       "56164      0.00\n",
       "55335      0.00\n",
       "19846      0.00\n",
       "102778     0.00\n",
       "55207      0.00\n",
       "109267     0.00\n",
       "88311     44.83\n",
       "94530     49.80\n",
       "85220     50.03\n",
       "65820     50.18\n",
       "63612     50.27\n",
       "9851      50.28\n",
       "87631     50.28\n",
       "66308     50.32\n",
       "43748     50.37\n",
       "36680     50.38\n",
       "41980     50.43\n",
       "7491      50.48\n",
       "52791     50.62\n",
       "72094     50.65\n",
       "102370    50.70\n",
       "Name: syst_direct_ipo_rate, dtype: float64"
      ]
     },
     "execution_count": 17,
     "metadata": {},
     "output_type": "execute_result"
    }
   ],
   "source": [
    "server_a_low.syst_direct_ipo_rate.sort_values()[:30]"
   ]
  },
  {
   "cell_type": "code",
   "execution_count": 18,
   "metadata": {
    "scrolled": true
   },
   "outputs": [
    {
     "data": {
      "text/plain": [
       "77955     211.73\n",
       "116891    215.20\n",
       "38691     217.90\n",
       "38509     218.00\n",
       "78808     229.10\n",
       "66387     232.95\n",
       "29683     233.68\n",
       "16859     237.28\n",
       "90136     242.03\n",
       "63730     255.28\n",
       "94139     256.90\n",
       "76135     257.58\n",
       "52595     265.58\n",
       "104195    267.73\n",
       "81711     276.18\n",
       "13281     278.98\n",
       "434       288.13\n",
       "25823     290.68\n",
       "30545     297.47\n",
       "97141     300.35\n",
       "15972     307.55\n",
       "71068     310.12\n",
       "38142     327.57\n",
       "39456     332.77\n",
       "88454     368.33\n",
       "67752     387.47\n",
       "90733     413.37\n",
       "26932     427.50\n",
       "70063     604.53\n",
       "62877     637.13\n",
       "Name: syst_direct_ipo_rate, dtype: float64"
      ]
     },
     "execution_count": 18,
     "metadata": {},
     "output_type": "execute_result"
    }
   ],
   "source": [
    "server_a_low.syst_direct_ipo_rate.sort_values()[-30:]"
   ]
  },
  {
   "cell_type": "code",
   "execution_count": 19,
   "metadata": {
    "scrolled": true
   },
   "outputs": [
    {
     "data": {
      "text/plain": [
       "41549     54.55\n",
       "101447    57.22\n",
       "107518    57.38\n",
       "95611     58.87\n",
       "56397     59.15\n",
       "107689    59.73\n",
       "46373     59.88\n",
       "42830     59.95\n",
       "109023    60.10\n",
       "8845      60.17\n",
       "39587     60.25\n",
       "32313     60.28\n",
       "16610     60.40\n",
       "40942     60.55\n",
       "57712     60.55\n",
       "81954     60.60\n",
       "42564     60.65\n",
       "45132     60.68\n",
       "76064     60.68\n",
       "66793     60.70\n",
       "15657     60.75\n",
       "61390     60.77\n",
       "111215    60.78\n",
       "8281      60.80\n",
       "27065     60.88\n",
       "55010     60.90\n",
       "119517    60.95\n",
       "20240     60.97\n",
       "72841     60.97\n",
       "88710     61.05\n",
       "Name: syst_direct_ipo_rate, dtype: float64"
      ]
     },
     "execution_count": 19,
     "metadata": {},
     "output_type": "execute_result"
    }
   ],
   "source": [
    "server_a_medium.syst_direct_ipo_rate.sort_values()[:30]"
   ]
  },
  {
   "cell_type": "code",
   "execution_count": 20,
   "metadata": {
    "scrolled": true
   },
   "outputs": [
    {
     "data": {
      "text/plain": [
       "14230     1355.10\n",
       "118575    1409.13\n",
       "98473     1423.90\n",
       "21326     1431.15\n",
       "89050     1458.75\n",
       "62666     1466.37\n",
       "47122     1474.73\n",
       "94897     1475.52\n",
       "6403      1478.50\n",
       "12602     1497.77\n",
       "71105     1505.42\n",
       "21607     1519.80\n",
       "48999     1557.93\n",
       "114421    1579.68\n",
       "41668     1646.48\n",
       "98660     1689.97\n",
       "22331     1726.45\n",
       "51759     1806.23\n",
       "73499     1873.88\n",
       "38766     1910.10\n",
       "90235     2002.32\n",
       "105092    2067.82\n",
       "58181     2150.95\n",
       "27490     2202.00\n",
       "108763    2216.88\n",
       "73019     2308.02\n",
       "54054     2372.35\n",
       "26684     2376.17\n",
       "28871     2456.30\n",
       "73232     2491.43\n",
       "Name: syst_direct_ipo_rate, dtype: float64"
      ]
     },
     "execution_count": 20,
     "metadata": {},
     "output_type": "execute_result"
    }
   ],
   "source": [
    "server_a_medium.syst_direct_ipo_rate.sort_values()[-30:]"
   ]
  },
  {
   "cell_type": "code",
   "execution_count": 21,
   "metadata": {
    "scrolled": true
   },
   "outputs": [
    {
     "data": {
      "text/plain": [
       "48542     63.65\n",
       "18490     66.15\n",
       "62636     67.23\n",
       "10943     67.72\n",
       "106456    68.75\n",
       "36527     69.35\n",
       "93023     69.65\n",
       "80728     69.90\n",
       "1880      70.75\n",
       "20080     72.48\n",
       "108486    72.60\n",
       "67909     72.80\n",
       "412       74.70\n",
       "54512     76.02\n",
       "13078     76.38\n",
       "94263     76.55\n",
       "59819     76.70\n",
       "6502      76.73\n",
       "45382     76.92\n",
       "21660     77.22\n",
       "58247     77.33\n",
       "56239     78.37\n",
       "41809     78.90\n",
       "42462     79.30\n",
       "63881     79.85\n",
       "96281     79.87\n",
       "74161     80.78\n",
       "19826     80.88\n",
       "95335     81.50\n",
       "24974     81.75\n",
       "Name: syst_direct_ipo_rate, dtype: float64"
      ]
     },
     "execution_count": 21,
     "metadata": {},
     "output_type": "execute_result"
    }
   ],
   "source": [
    "server_a_high.syst_direct_ipo_rate.sort_values()[:30]"
   ]
  },
  {
   "cell_type": "code",
   "execution_count": null,
   "metadata": {},
   "outputs": [],
   "source": [
    "## Check the number of servers in the test dataset\n",
    "test_df.m_id.value_counts()"
   ]
  },
  {
   "cell_type": "markdown",
   "metadata": {},
   "source": [
    "- Same number of servers are present in the **train and test data set**."
   ]
  },
  {
   "cell_type": "code",
   "execution_count": null,
   "metadata": {},
   "outputs": [],
   "source": [
    "# Description of the dataset\n",
    "pd.set_option('display.max_rows', 86)\n",
    "train_df.describe().T"
   ]
  },
  {
   "cell_type": "markdown",
   "metadata": {},
   "source": [
    "### Exploratory Data Analysis"
   ]
  },
  {
   "cell_type": "code",
   "execution_count": null,
   "metadata": {},
   "outputs": [],
   "source": [
    "def box_plot(column_name):\n",
    "    \"\"\"\n",
    "    This function will draw box plot for the column_name if its datatype is float64\n",
    "    \n",
    "    Args:\n",
    "        column_name: name of the column in the train_df\n",
    "    \"\"\"\n",
    "    if train_df[column_name].dtypes == 'float64':\n",
    "        fig, ax = plt.subplots(figsize = (15, 8))\n",
    "        sns.boxplot(train_df.m_id, train_df[column_name], hue = train_df.cpu_load, dodge = True, ax = ax)\n",
    "        ax.set_title(f'Distribution of {column_name} column variable across the servers', fontsize = 15)\n",
    "    \n",
    "    else:\n",
    "        pass"
   ]
  },
  {
   "cell_type": "markdown",
   "metadata": {},
   "source": [
    "### Explore each float type column in the train dataframe"
   ]
  },
  {
   "cell_type": "code",
   "execution_count": null,
   "metadata": {},
   "outputs": [],
   "source": [
    "# set the order of categories in m_id column of the dataframe\n",
    "m_id_order = ['a', 'b', 'c', 'd', 'e', 'f', 'g']\n",
    "ordered_cat = pd.api.types.CategoricalDtype(ordered = True, categories = m_id_order)\n",
    "train_df['m_id'] = train_df['m_id'].astype(ordered_cat)"
   ]
  },
  {
   "cell_type": "code",
   "execution_count": null,
   "metadata": {},
   "outputs": [],
   "source": [
    "# set the order of categories in cpu_load column of the dataframe\n",
    "cpu_load_order = ['low', 'medium', 'high']\n",
    "ordered_load = pd.api.types.CategoricalDtype(ordered = True, categories = cpu_load_order)\n",
    "train_df['cpu_load'] = train_df['cpu_load'].astype(ordered_load)"
   ]
  },
  {
   "cell_type": "code",
   "execution_count": null,
   "metadata": {},
   "outputs": [],
   "source": [
    "box_plot('syst_direct_ipo_rate')"
   ]
  },
  {
   "cell_type": "markdown",
   "metadata": {},
   "source": [
    "- **Server a** has highest values of **syst_direct_ipo_rate** when cpu is on **high_load** among all the servers.\n",
    "- Server **b, e, f** have no outliers when cpu is on **high_load**, while other servers have outliers.\n",
    "- Outliers are present in all the servers when cpu is on **low & medium** load.\n",
    "- **low_load** on all the servers lies below 1000, **medium_load** lies around 2000 and **high_load** is around 4000 (except server a)."
   ]
  },
  {
   "cell_type": "code",
   "execution_count": null,
   "metadata": {},
   "outputs": [],
   "source": [
    "box_plot('syst_buffered_ipo_rate')"
   ]
  },
  {
   "cell_type": "markdown",
   "metadata": {},
   "source": [
    "- **Server a** has highest values of **syst_buffered_ipo_rate** on **all loading conditions of cpu** among all the servers.\n",
    "- All servers, except server a has **similar syst_buffered_ipo_rate on all loading conditions of cpu**."
   ]
  },
  {
   "cell_type": "code",
   "execution_count": null,
   "metadata": {},
   "outputs": [],
   "source": [
    "box_plot('syst_page_fault_rate')"
   ]
  },
  {
   "cell_type": "markdown",
   "metadata": {},
   "source": [
    "- **Server f** has highest values of **syst_page_fault_rate** when cpu is on **high_load**.\n",
    "- All servers have similar values of **syst_page_fault_rate** when cpu is on **low_load**."
   ]
  },
  {
   "cell_type": "code",
   "execution_count": null,
   "metadata": {},
   "outputs": [],
   "source": [
    "box_plot('syst_page_read_ipo_rate')"
   ]
  },
  {
   "cell_type": "markdown",
   "metadata": {},
   "source": [
    "- **Server a and c** has highest **syst_page_read_ipo_rate** when cpu is on **high_load**.\n",
    "- **Server f** has highest **syst_page_read_ipo_rate** when cpu is on **medium_load**."
   ]
  },
  {
   "cell_type": "code",
   "execution_count": null,
   "metadata": {},
   "outputs": [],
   "source": [
    "box_plot('page_global_valid_fault_rate')"
   ]
  },
  {
   "cell_type": "markdown",
   "metadata": {},
   "source": [
    "- **Server a and c** has highest **page_global_valid_fault_rate** when cpu is on **high_load**.\n",
    "- **Server f** has highest **page_global_valid_fault_rate** when cpu is on **medium_load**."
   ]
  },
  {
   "cell_type": "code",
   "execution_count": null,
   "metadata": {},
   "outputs": [],
   "source": [
    "box_plot('io_mailbox_write_rate')"
   ]
  },
  {
   "cell_type": "markdown",
   "metadata": {},
   "source": [
    "- **Server a** has highest values of **io_mailbox_write_rate** on **all loading conditions of cpu**.\n",
    "- **Server f** has different behaviour on all loading conditions of cpu."
   ]
  },
  {
   "cell_type": "code",
   "execution_count": null,
   "metadata": {},
   "outputs": [],
   "source": [
    "box_plot('io_split_transfer_rate')"
   ]
  },
  {
   "cell_type": "markdown",
   "metadata": {},
   "source": [
    "- All servers have similar values of **io_split_transfer_rate** when cpu is on **low_load**.\n",
    "- **Server a and f** has least values of **io_split_transfer_rate** on **all loading conditons of cpu**."
   ]
  },
  {
   "cell_type": "code",
   "execution_count": null,
   "metadata": {},
   "outputs": [],
   "source": [
    "box_plot('io_file_open_rate')"
   ]
  },
  {
   "cell_type": "markdown",
   "metadata": {},
   "source": [
    "- All servers have similar values of **io_file_open_rate** under **all loading condtions of cpu**."
   ]
  },
  {
   "cell_type": "code",
   "execution_count": null,
   "metadata": {},
   "outputs": [],
   "source": [
    "box_plot('io_logical_name_trans')"
   ]
  },
  {
   "cell_type": "markdown",
   "metadata": {},
   "source": [
    "- **Server a** has highest values of **io_logical_name_trans** on **all loading conditions of cpu**."
   ]
  },
  {
   "cell_type": "code",
   "execution_count": null,
   "metadata": {},
   "outputs": [],
   "source": [
    "box_plot('io_page_reads')"
   ]
  },
  {
   "cell_type": "markdown",
   "metadata": {},
   "source": [
    "- All servers have similar values of **io_page_reads** under **all loading condtions of cpu**."
   ]
  },
  {
   "cell_type": "code",
   "execution_count": null,
   "metadata": {},
   "outputs": [],
   "source": [
    "box_plot('io_page_writes')"
   ]
  },
  {
   "cell_type": "markdown",
   "metadata": {},
   "source": [
    "- **Server f** has unusual values of **io_page_writes** on **all loading conditions of cpu**.\n",
    "- **Server a** has highest values of **io_page_writes** when cpu is on **low and medium load**."
   ]
  },
  {
   "cell_type": "code",
   "execution_count": null,
   "metadata": {},
   "outputs": [],
   "source": [
    "box_plot('page_free_list_faults')"
   ]
  },
  {
   "cell_type": "markdown",
   "metadata": {},
   "source": [
    "- **Server a** has large values of **page_free_list_faults** when cpu is on **medium and high load**."
   ]
  },
  {
   "cell_type": "code",
   "execution_count": null,
   "metadata": {},
   "outputs": [],
   "source": [
    "box_plot('page_modified_list_faults')"
   ]
  },
  {
   "cell_type": "markdown",
   "metadata": {},
   "source": [
    "- **Server a** has highest values of **page_modified_list_faults** when cpu is on **high_load**."
   ]
  },
  {
   "cell_type": "code",
   "execution_count": null,
   "metadata": {},
   "outputs": [],
   "source": [
    "box_plot('page_demand_zero_faults')"
   ]
  },
  {
   "cell_type": "markdown",
   "metadata": {},
   "source": [
    "- **Server f** has highest values of **page_demand_zero_faults** when cpu is on **high_load**."
   ]
  },
  {
   "cell_type": "code",
   "execution_count": null,
   "metadata": {},
   "outputs": [],
   "source": [
    "box_plot('app07_dirio')"
   ]
  },
  {
   "cell_type": "markdown",
   "metadata": {},
   "source": [
    "- The above box plot of **app07_dirio** has very small values on all loading conditions of cpu."
   ]
  },
  {
   "cell_type": "code",
   "execution_count": null,
   "metadata": {},
   "outputs": [],
   "source": [
    "box_plot('app07_bufio')"
   ]
  },
  {
   "cell_type": "markdown",
   "metadata": {},
   "source": [
    "- **Server b, d and g** have mean values of **app07_bufio** around 500 when cpu is on **medium and high load**.\n",
    "- **Server a** has highest values of **app07_bufio** when cpu is on **medium and high load**."
   ]
  },
  {
   "cell_type": "code",
   "execution_count": null,
   "metadata": {},
   "outputs": [],
   "source": [
    "box_plot('app07_pgflts')"
   ]
  },
  {
   "cell_type": "markdown",
   "metadata": {},
   "source": [
    "- All servers have similar values of **app07_pgflts** on all **loading conditions of cpu** except few outliers."
   ]
  },
  {
   "cell_type": "code",
   "execution_count": null,
   "metadata": {},
   "outputs": [],
   "source": [
    "col_list = ['app04_dirio', 'app04_bufio', 'app04_pgflts', 'app08_dirio', 'app08_bufio', 'app08_pgflts', 'app01_dirio', \n",
    "            'app01_bufio', 'app01_pgflts', 'app05_dirio', 'app05_bufio', 'app05_pgflts', 'app03_dirio', 'app03_bufio', \n",
    "            'app03_pgflts', 'app02_dirio', 'app02_bufio', 'app02_pgflts', 'lla0_pkts_recvpsec', 'lla0_pkts_sentpsec', \n",
    "            'llb0_pkts_recvpsec', 'llb0_pkts_sentpsec', 'ewc0_pkts_recvpsec', 'ewc0_pkts_sentpsec', 'ewd0_pkts_recvpsec', \n",
    "            'ewd0_pkts_sentpsec']"
   ]
  },
  {
   "cell_type": "code",
   "execution_count": null,
   "metadata": {
    "scrolled": true
   },
   "outputs": [],
   "source": [
    "for col in col_list[:18]:\n",
    "    box_plot(col)"
   ]
  },
  {
   "cell_type": "markdown",
   "metadata": {},
   "source": [
    "### app04_dirio\n",
    "- Only **Server a and b** have values in **app04_dirio** column.\n",
    "- Most of the values are present in **Server a**.\n",
    "\n",
    "### app04_bufio\n",
    "- Only **Server a and b** have values in **app04_bufio** column.\n",
    "- Most of the values are present in **Server a**.\n",
    "\n",
    "### app04_pgflts\n",
    "- Almost all the values of **app04_pgflts** are present in **Server a**.\n",
    "\n",
    "### app08_dirio\n",
    "- Only **Server c and d** have values in **app08_dirio** column.\n",
    "- Most of the values are present in **Server c**.\n",
    "\n",
    "### app08_bufio\n",
    "- Only **Server c and d** have values in **app08_bufio** column.\n",
    "- Most of the values are present in **Server c**.\n",
    "\n",
    "### app08_pgflts\n",
    "- All data of **app08_pgflts** is present in **Server c**.\n",
    "\n",
    "### app01_dirio\n",
    "- All data of **app01_dirio** is present in **Server d**.\n",
    "\n",
    "### app01_bufio\n",
    "- All data of **app01_bufio** is present in **Server d**.\n",
    "\n",
    "### app01_pgflts\n",
    "- All data of **app01_pgflts** is present in **Server d**.\n",
    "\n",
    "### app05_dirio\n",
    "- **Server a and d** have least outliers in **app05_dirio**.\n",
    "\n",
    "### app05_bufio\n",
    "- **Server a and d** have similar values in **app05_bufi0** for all **loading conditions of cpu**, while all other servers have similar values, except **Server f**.\n",
    "\n",
    "### app05_pgflts\n",
    "- All servers have similar values in **app05_pgflts** except few outliers.\n",
    "\n",
    "### app03_dirio\n",
    "- All data of **app03_dirio** is present in **Server a**.\n",
    "\n",
    "### app03_bufio\n",
    "- All data of **app03_bufio** is present in **Server a**.\n",
    "\n",
    "### app03_pgflts\n",
    "- All data of **app03_pgflts** is present in **Server a**.\n",
    "\n",
    "### app02_dirio\n",
    "- **Server b** has highest values in **app02_dirio** on **all loading conditons of cpu**, while **Server f** has least values.\n",
    "\n",
    "### app02_bufio\n",
    "- **Server b** has highest values in **app02_bufio** on **all loading conditons of cpu**, while **Server f** has least values.\n",
    "\n",
    "### app02_pgflts\n",
    "- **Server f** has no values in **app02_pgflts**."
   ]
  },
  {
   "cell_type": "code",
   "execution_count": null,
   "metadata": {
    "scrolled": true
   },
   "outputs": [],
   "source": [
    "for col in col_list[18:]:\n",
    "    box_plot(col)"
   ]
  },
  {
   "cell_type": "markdown",
   "metadata": {},
   "source": [
    "### lla0_pkts_recvpsec\n",
    "- All servers have similar values, except few outliers. Very large values are present in this column.\n",
    "\n",
    "### lla0_pkts_sentpsec\n",
    "- All servers have similar values, except few outliers. Very large values are present in this column.\n",
    "\n",
    "### llb0_pkts_recvpsec\n",
    "- **Server a and b** have very large values of **llb0_pkts_recvpsec**, while **Server f** has the lowest.\n",
    "\n",
    "\n",
    "### llb0_pkts_sentpsec\n",
    "- **Server a and b** have very large values of **llb0_pkts_sentpsec**, while **Server f** has the lowest.\n",
    "\n",
    "### ewc0_pkts_recvpsec,  ewc0_pkts_sentpsec,  ewd0_pkts_recvpsec and ewd0_pkts_sentpsec\n",
    "- All servers have similar values in all these columns under all loading conditions, except few outliers."
   ]
  },
  {
   "cell_type": "markdown",
   "metadata": {},
   "source": [
    "- **app08_pgflts, app01_pgflts & app02_pgflts** columns have very few unique values"
   ]
  },
  {
   "cell_type": "code",
   "execution_count": null,
   "metadata": {},
   "outputs": [],
   "source": [
    "# filter the float64 columns from the train dataframe\n",
    "df_float = train_df.select_dtypes(include = ['float64'])\n",
    "df_float.shape"
   ]
  },
  {
   "cell_type": "markdown",
   "metadata": {},
   "source": [
    "### Check the unique values in each of the 3 columns [app08_pgflts, app01_pgflts & app02_pgflts]"
   ]
  },
  {
   "cell_type": "code",
   "execution_count": null,
   "metadata": {},
   "outputs": [],
   "source": [
    "# value counts of app01_pgflts \n",
    "df_float.app01_pgflts.value_counts()"
   ]
  },
  {
   "cell_type": "code",
   "execution_count": null,
   "metadata": {},
   "outputs": [],
   "source": [
    "# value counts of app02_pgflts \n",
    "df_float.app02_pgflts.value_counts()"
   ]
  },
  {
   "cell_type": "code",
   "execution_count": null,
   "metadata": {},
   "outputs": [],
   "source": [
    "# value counts of app08_pgflts \n",
    "df_float.app08_pgflts.value_counts()"
   ]
  },
  {
   "cell_type": "markdown",
   "metadata": {},
   "source": [
    "- 3 columns above have very large number of **zero values**."
   ]
  },
  {
   "cell_type": "markdown",
   "metadata": {},
   "source": [
    "### Lets count the number of zeros in each column of df_float dataframe"
   ]
  },
  {
   "cell_type": "code",
   "execution_count": null,
   "metadata": {
    "scrolled": true
   },
   "outputs": [],
   "source": [
    "df_float.isin([0]).sum().plot(kind = 'barh', figsize = (12, 14), ylabel = 'count', xlabel = 'columns', \n",
    "                              title = 'Count of zeros in the df_float dataframe', fontsize = 12);"
   ]
  },
  {
   "cell_type": "markdown",
   "metadata": {},
   "source": [
    "- There are large number of zeros in the columns of df_float dataframe "
   ]
  },
  {
   "cell_type": "markdown",
   "metadata": {},
   "source": [
    "### Check correlations in the df_float dataframe"
   ]
  },
  {
   "cell_type": "code",
   "execution_count": null,
   "metadata": {
    "scrolled": true
   },
   "outputs": [],
   "source": [
    "## plot the correlation matrix for the df_float dataset\n",
    "corr = df_float.corr()\n",
    "corr.style.background_gradient(cmap = 'coolwarm')"
   ]
  },
  {
   "cell_type": "markdown",
   "metadata": {},
   "source": [
    "### Highly correlated features in the df_float dataframe\n",
    "- syst_page_fault_rate\n",
    "- syst_page_read_ipo_rate\n",
    "- page_page_write_ipo_rate\n",
    "- page_global_valid_fault_rate\n",
    "- io_page_reads\n",
    "- io_page_writes\n",
    "- page_modified_list_faults\n",
    "- page_demand_zero_faults\n",
    "- app08_dirio\n",
    "- app08_bufio\n",
    "- app01_dirio\n",
    "- app01_bufio\n",
    "- app02_dirio\n",
    "- app02_bufio\n",
    "- llb0_pkts_recvpsec\n",
    "- llb0_pkts_sentpsec"
   ]
  },
  {
   "cell_type": "markdown",
   "metadata": {},
   "source": [
    "### Box plot of individual column in the dataset"
   ]
  },
  {
   "cell_type": "code",
   "execution_count": null,
   "metadata": {},
   "outputs": [],
   "source": [
    "def plot(column_name):\n",
    "    \"\"\"\n",
    "    This function will draw box plot for the column_name \n",
    "    \n",
    "    Args:\n",
    "        column_name: name of the column in the train_df\n",
    "    \"\"\"\n",
    "   \n",
    "    fig, ax = plt.subplots(figsize = (15, 8))\n",
    "    sns.boxplot(train_df.cpu_load, train_df[column_name], dodge = True, ax = ax)\n",
    "    ax.set_title(f'Distribution of {column_name} column variable across the target', fontsize = 15)"
   ]
  },
  {
   "cell_type": "code",
   "execution_count": null,
   "metadata": {},
   "outputs": [],
   "source": [
    "for col in train_df.columns[1:15]:\n",
    "    plot(col)"
   ]
  },
  {
   "cell_type": "code",
   "execution_count": null,
   "metadata": {},
   "outputs": [],
   "source": [
    "for col in train_df.columns[15:30]:\n",
    "    plot(col)"
   ]
  },
  {
   "cell_type": "code",
   "execution_count": null,
   "metadata": {},
   "outputs": [],
   "source": [
    "for col in train_df.columns[30:45]:\n",
    "    plot(col)"
   ]
  },
  {
   "cell_type": "code",
   "execution_count": null,
   "metadata": {
    "scrolled": true
   },
   "outputs": [],
   "source": [
    "for col in train_df.columns[45:50]:\n",
    "    plot(col)"
   ]
  },
  {
   "cell_type": "code",
   "execution_count": null,
   "metadata": {},
   "outputs": [],
   "source": [
    "for col in train_df.columns[45:60]:\n",
    "    plot(col)"
   ]
  },
  {
   "cell_type": "code",
   "execution_count": null,
   "metadata": {},
   "outputs": [],
   "source": [
    "for col in train_df.columns[60:75]:\n",
    "    plot(col)"
   ]
  },
  {
   "cell_type": "code",
   "execution_count": null,
   "metadata": {},
   "outputs": [],
   "source": [
    "## filter the int64 columns from the train dataset\n",
    "df_int = train_df.select_dtypes(include = ['int64'])\n",
    "df_int.shape"
   ]
  },
  {
   "cell_type": "code",
   "execution_count": null,
   "metadata": {
    "scrolled": true
   },
   "outputs": [],
   "source": [
    "## Check the number of unique values in the df_int dataframe\n",
    "df_int.nunique()"
   ]
  },
  {
   "cell_type": "markdown",
   "metadata": {},
   "source": [
    "### Explore each column of type int64 in the dataset by using countplot"
   ]
  },
  {
   "cell_type": "code",
   "execution_count": null,
   "metadata": {},
   "outputs": [],
   "source": [
    "def count_plot(column):\n",
    "    fig, ax = plt.subplots(figsize = (12, 6))\n",
    "    sns.countplot(x = column, hue = train_df.cpu_load, data = train_df, ax = ax)\n",
    "    ax.set_title(f'Count plot of {column} column of the dataset', fontsize = 15)\n",
    "    plt.legend(loc = 1);"
   ]
  },
  {
   "cell_type": "code",
   "execution_count": null,
   "metadata": {
    "scrolled": true
   },
   "outputs": [],
   "source": [
    "columns = df_int.columns[df_int.nunique() <= 12]\n",
    "for col in columns:\n",
    "    count_plot(col)"
   ]
  },
  {
   "cell_type": "code",
   "execution_count": null,
   "metadata": {},
   "outputs": [],
   "source": [
    "def print_value_counts(col):\n",
    "    return df_int[col].value_counts()"
   ]
  },
  {
   "cell_type": "code",
   "execution_count": null,
   "metadata": {},
   "outputs": [],
   "source": [
    "for col in columns:\n",
    "    print(f'Value counts of the column {col} in the dataset is:')\n",
    "    print(print_value_counts(col))\n",
    "    print('-------')"
   ]
  },
  {
   "cell_type": "code",
   "execution_count": null,
   "metadata": {
    "scrolled": true
   },
   "outputs": [],
   "source": [
    "## Count the number of zeros in each column\n",
    "df_int.isin([0]).sum().plot(kind = 'barh', figsize = (12, 14), ylabel = 'count', xlabel = 'columns', \n",
    "                              title = 'Count of zeros in the dataset', fontsize = 12);"
   ]
  },
  {
   "cell_type": "code",
   "execution_count": null,
   "metadata": {
    "scrolled": true
   },
   "outputs": [],
   "source": [
    "## plot the correlation matrix for the df_int dataframe\n",
    "zero_cols = ['app06_dirio', 'app06_bufio', 'app06_pgflts', 'app03_proccount', 'app06_proccount']\n",
    "corr = df_int.drop(zero_cols, axis = 1).corr()\n",
    "corr.style.background_gradient(cmap = 'coolwarm')"
   ]
  },
  {
   "cell_type": "markdown",
   "metadata": {},
   "source": [
    "### Highly correlated features in df_int dataframe are:\n",
    "- syst_process_count\n",
    "- page_modified_list_size\n",
    "- state_lef\t\n",
    "- app06_pagesgbl\n",
    "- app07_proccount\t\n",
    "- app07_pagesgbl\t\n",
    "- app07_pagesproc\t\n",
    "- app04_proccount\n",
    "- app04_pagesgbl\t\n",
    "- app04_pagesproc\n",
    "- app08_proccount\t\n",
    "- app08_pagesgbl\t\n",
    "- app08_pagesproc\t\n",
    "- app01_proccount\t\n",
    "- app01_pagesgbl\t\n",
    "- app01_pagesproc\t\n",
    "- app05_proccount\t\n",
    "- app05_pagesgbl\n",
    "- app05_pagesproc\t\n",
    "- app03_pagesgbl\t\n",
    "- app03_pagesproc\t\n",
    "- app02_proccount\t\n",
    "- app02_pagesgbl\t\n",
    "- app02_pagesproc\t\n",
    "- tcp_in\t\n",
    "- tcp_out\t\n",
    "- tcp_rxdup\t\n",
    "- tcp_retxpk\n",
    "- tcp_retxto"
   ]
  },
  {
   "cell_type": "markdown",
   "metadata": {},
   "source": [
    "### Base Line Random Forest Model"
   ]
  },
  {
   "cell_type": "code",
   "execution_count": null,
   "metadata": {},
   "outputs": [],
   "source": [
    "from sklearn.model_selection import train_test_split, cross_val_score, KFold\n",
    "from sklearn.ensemble import RandomForestClassifier\n",
    "from sklearn.metrics import confusion_matrix, classification_report, f1_score, accuracy_score"
   ]
  },
  {
   "cell_type": "markdown",
   "metadata": {},
   "source": [
    "### One hot encode the server id and cpu load column"
   ]
  },
  {
   "cell_type": "code",
   "execution_count": null,
   "metadata": {},
   "outputs": [],
   "source": [
    "mid_encoding = pd.get_dummies(train_df.m_id, prefix = 'server_')\n",
    "target = train_df.cpu_load\n",
    "target_encoding = pd.get_dummies(train_df.cpu_load)\n",
    "train_df.drop(['m_id', 'cpu_load'], axis = 1, inplace = True)\n",
    "train_df = pd.concat([train_df, mid_encoding], axis = 1)\n",
    "train_df.head()"
   ]
  },
  {
   "cell_type": "markdown",
   "metadata": {},
   "source": [
    "### Split data into train and validation sets"
   ]
  },
  {
   "cell_type": "code",
   "execution_count": null,
   "metadata": {},
   "outputs": [],
   "source": [
    "train_x, val_x, train_y, val_y = train_test_split(train_df, target, test_size = 0.20, stratify = target, random_state = 42)\n",
    "print(f'Shape of train_x: {train_x.shape}\\nShape of train_y: {train_y.shape}')\n",
    "print(f'Shape of val_x: {val_x.shape}\\nShape of train_y: {val_y.shape}')"
   ]
  },
  {
   "cell_type": "code",
   "execution_count": null,
   "metadata": {},
   "outputs": [],
   "source": [
    "# create the model\n",
    "rf_model = RandomForestClassifier()\n",
    "rf_model.fit(train_x, train_y)\n",
    "pred = rf_model.predict(val_x)\n",
    "confusion_matrix(val_y, pred)"
   ]
  },
  {
   "cell_type": "code",
   "execution_count": null,
   "metadata": {},
   "outputs": [],
   "source": [
    "# accuracy and f1_score\n",
    "accuracy_score(val_y, pred), f1_score(val_y, pred, average = None)"
   ]
  },
  {
   "cell_type": "code",
   "execution_count": null,
   "metadata": {},
   "outputs": [],
   "source": [
    "rf_model.feature_importances_"
   ]
  },
  {
   "cell_type": "markdown",
   "metadata": {},
   "source": [
    "### Make predictions on test data"
   ]
  },
  {
   "cell_type": "code",
   "execution_count": null,
   "metadata": {},
   "outputs": [],
   "source": [
    "test_df = pd.get_dummies(test_df.iloc[:, 1:])\n",
    "test_df.head()"
   ]
  },
  {
   "cell_type": "code",
   "execution_count": null,
   "metadata": {},
   "outputs": [],
   "source": [
    "predictions = pd.DataFrame(rf_model.predict_proba(test_df), columns = rf_model.classes_)\n",
    "predictions.head()"
   ]
  }
 ],
 "metadata": {
  "kernelspec": {
   "display_name": "Python 3",
   "language": "python",
   "name": "python3"
  },
  "language_info": {
   "codemirror_mode": {
    "name": "ipython",
    "version": 3
   },
   "file_extension": ".py",
   "mimetype": "text/x-python",
   "name": "python",
   "nbconvert_exporter": "python",
   "pygments_lexer": "ipython3",
   "version": "3.7.4"
  }
 },
 "nbformat": 4,
 "nbformat_minor": 4
}
